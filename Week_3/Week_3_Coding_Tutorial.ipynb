{
  "nbformat": 4,
  "nbformat_minor": 0,
  "metadata": {
    "kernelspec": {
      "display_name": "Python 3",
      "language": "python",
      "name": "python3"
    },
    "language_info": {
      "codemirror_mode": {
        "name": "ipython",
        "version": 3
      },
      "file_extension": ".py",
      "mimetype": "text/x-python",
      "name": "python",
      "nbconvert_exporter": "python",
      "pygments_lexer": "ipython3",
      "version": "3.7.1"
    },
    "colab": {
      "name": "Coding Tutorial.ipynb",
      "provenance": []
    }
  },
  "cells": [
    {
      "cell_type": "code",
      "metadata": {
        "scrolled": true,
        "id": "m_-P1czci-05",
        "colab_type": "code",
        "colab": {
          "base_uri": "https://localhost:8080/",
          "height": 34
        },
        "outputId": "9b98d609-8633-4492-a06c-39b4959a47ec"
      },
      "source": [
        "import tensorflow as tf\n",
        "print(tf.__version__)"
      ],
      "execution_count": 20,
      "outputs": [
        {
          "output_type": "stream",
          "text": [
            "2.2.0\n"
          ],
          "name": "stdout"
        }
      ]
    },
    {
      "cell_type": "markdown",
      "metadata": {
        "id": "iPW1L3V0i-1B",
        "colab_type": "text"
      },
      "source": [
        "# Validation, regularisation and callbacks"
      ]
    },
    {
      "cell_type": "markdown",
      "metadata": {
        "id": "TMCeOKhTi-1C",
        "colab_type": "text"
      },
      "source": [
        " ## Coding tutorials\n",
        " #### [1. Validation sets](#coding_tutorial_1)\n",
        " #### [2. Model regularisation](#coding_tutorial_2)\n",
        " #### [3. Introduction to callbacks](#coding_tutorial_3)\n",
        " #### [4. Early stopping / patience](#coding_tutorial_4)"
      ]
    },
    {
      "cell_type": "markdown",
      "metadata": {
        "id": "zVeG4Jq1i-1D",
        "colab_type": "text"
      },
      "source": [
        "***\n",
        "<a id=\"coding_tutorial_1\"></a>\n",
        "## Validation sets"
      ]
    },
    {
      "cell_type": "markdown",
      "metadata": {
        "id": "a92OQohWi-1E",
        "colab_type": "text"
      },
      "source": [
        "#### Load the data"
      ]
    },
    {
      "cell_type": "code",
      "metadata": {
        "id": "nm4_91jxi-1G",
        "colab_type": "code",
        "colab": {
          "base_uri": "https://localhost:8080/",
          "height": 683
        },
        "outputId": "6c2c875e-120e-4c3c-e015-fa8aaef0c14b"
      },
      "source": [
        "# Load the diabetes dataset\n",
        "from sklearn.datasets import load_diabetes\n",
        "diabetes_dataset = load_diabetes()\n",
        "print(diabetes_dataset['DESCR'])"
      ],
      "execution_count": 21,
      "outputs": [
        {
          "output_type": "stream",
          "text": [
            ".. _diabetes_dataset:\n",
            "\n",
            "Diabetes dataset\n",
            "----------------\n",
            "\n",
            "Ten baseline variables, age, sex, body mass index, average blood\n",
            "pressure, and six blood serum measurements were obtained for each of n =\n",
            "442 diabetes patients, as well as the response of interest, a\n",
            "quantitative measure of disease progression one year after baseline.\n",
            "\n",
            "**Data Set Characteristics:**\n",
            "\n",
            "  :Number of Instances: 442\n",
            "\n",
            "  :Number of Attributes: First 10 columns are numeric predictive values\n",
            "\n",
            "  :Target: Column 11 is a quantitative measure of disease progression one year after baseline\n",
            "\n",
            "  :Attribute Information:\n",
            "      - Age\n",
            "      - Sex\n",
            "      - Body mass index\n",
            "      - Average blood pressure\n",
            "      - S1\n",
            "      - S2\n",
            "      - S3\n",
            "      - S4\n",
            "      - S5\n",
            "      - S6\n",
            "\n",
            "Note: Each of these 10 feature variables have been mean centered and scaled by the standard deviation times `n_samples` (i.e. the sum of squares of each column totals 1).\n",
            "\n",
            "Source URL:\n",
            "https://www4.stat.ncsu.edu/~boos/var.select/diabetes.html\n",
            "\n",
            "For more information see:\n",
            "Bradley Efron, Trevor Hastie, Iain Johnstone and Robert Tibshirani (2004) \"Least Angle Regression,\" Annals of Statistics (with discussion), 407-499.\n",
            "(https://web.stanford.edu/~hastie/Papers/LARS/LeastAngle_2002.pdf)\n"
          ],
          "name": "stdout"
        }
      ]
    },
    {
      "cell_type": "code",
      "metadata": {
        "id": "HXOOmUbMi-1M",
        "colab_type": "code",
        "colab": {
          "base_uri": "https://localhost:8080/",
          "height": 34
        },
        "outputId": "4ac34f30-145c-41b3-d63e-359ecd6cd4f1"
      },
      "source": [
        "# Save the input and target variables\n",
        "print(diabetes_dataset.keys())\n",
        "data = diabetes_dataset[\"data\"]\n",
        "targets = diabetes_dataset[\"target\"]"
      ],
      "execution_count": 22,
      "outputs": [
        {
          "output_type": "stream",
          "text": [
            "dict_keys(['data', 'target', 'DESCR', 'feature_names', 'data_filename', 'target_filename'])\n"
          ],
          "name": "stdout"
        }
      ]
    },
    {
      "cell_type": "code",
      "metadata": {
        "id": "ukAsZ9Y3i-1U",
        "colab_type": "code",
        "colab": {}
      },
      "source": [
        "# Normalise the target data (this will make clearer training curves)\n",
        "import numpy as np\n",
        "targets = (targets - np.mean(targets, axis = 0))/np.std(targets, axis = 0)"
      ],
      "execution_count": 23,
      "outputs": []
    },
    {
      "cell_type": "code",
      "metadata": {
        "id": "eKJ_GVV4i-1X",
        "colab_type": "code",
        "colab": {}
      },
      "source": [
        "# Split the data into train and test sets\n",
        "from sklearn.model_selection import train_test_split\n",
        "X_train, X_test, Y_train, Y_test = train_test_split(data, targets, test_size = 0.1)"
      ],
      "execution_count": 24,
      "outputs": []
    },
    {
      "cell_type": "markdown",
      "metadata": {
        "id": "-5A1dctsi-1a",
        "colab_type": "text"
      },
      "source": [
        "#### Train a feedforward neural network model"
      ]
    },
    {
      "cell_type": "code",
      "metadata": {
        "id": "hFCzGn09i-1c",
        "colab_type": "code",
        "colab": {}
      },
      "source": [
        "# Build the model\n",
        "from tensorflow.keras.models import Sequential\n",
        "from tensorflow.keras.layers import Dense\n",
        "\n",
        "def get_model():\n",
        "  model = Sequential()\n",
        "  model.add(Dense(128, activation = 'relu', input_shape = (X_train.shape[1],)))\n",
        "  model.add(Dense(128, activation = 'relu'))\n",
        "  model.add(Dense(128, activation = 'relu'))\n",
        "  model.add(Dense(128, activation = 'relu'))\n",
        "  model.add(Dense(128, activation = 'relu'))\n",
        "  model.add(Dense(128, activation = 'relu'))\n",
        "  model.add(Dense(128, activation = 'sigmoid'))\n",
        "  return model\n",
        "\n",
        "model = get_model()"
      ],
      "execution_count": 25,
      "outputs": []
    },
    {
      "cell_type": "code",
      "metadata": {
        "id": "SIkdmLFti-1i",
        "colab_type": "code",
        "colab": {
          "base_uri": "https://localhost:8080/",
          "height": 391
        },
        "outputId": "c4dd3bec-adaf-445d-bc9e-ca1456768066"
      },
      "source": [
        "# Print the model summary\n",
        "model.summary()"
      ],
      "execution_count": 26,
      "outputs": [
        {
          "output_type": "stream",
          "text": [
            "Model: \"sequential_2\"\n",
            "_________________________________________________________________\n",
            "Layer (type)                 Output Shape              Param #   \n",
            "=================================================================\n",
            "dense_14 (Dense)             (None, 128)               1408      \n",
            "_________________________________________________________________\n",
            "dense_15 (Dense)             (None, 128)               16512     \n",
            "_________________________________________________________________\n",
            "dense_16 (Dense)             (None, 128)               16512     \n",
            "_________________________________________________________________\n",
            "dense_17 (Dense)             (None, 128)               16512     \n",
            "_________________________________________________________________\n",
            "dense_18 (Dense)             (None, 128)               16512     \n",
            "_________________________________________________________________\n",
            "dense_19 (Dense)             (None, 128)               16512     \n",
            "_________________________________________________________________\n",
            "dense_20 (Dense)             (None, 128)               16512     \n",
            "=================================================================\n",
            "Total params: 100,480\n",
            "Trainable params: 100,480\n",
            "Non-trainable params: 0\n",
            "_________________________________________________________________\n"
          ],
          "name": "stdout"
        }
      ]
    },
    {
      "cell_type": "code",
      "metadata": {
        "id": "T8Z52eywi-1o",
        "colab_type": "code",
        "colab": {}
      },
      "source": [
        "# Compile the model\n",
        "model.compile(optimizer = 'adam', loss = 'mse', metrics = ['mae'])"
      ],
      "execution_count": 27,
      "outputs": []
    },
    {
      "cell_type": "code",
      "metadata": {
        "id": "z8avV0SQi-1t",
        "colab_type": "code",
        "colab": {
          "base_uri": "https://localhost:8080/",
          "height": 1000
        },
        "outputId": "73fe1720-4f83-4460-cb98-5ee1cbd4d48e"
      },
      "source": [
        "# Train the model, with some of the data reserved for validation\n",
        "history = model.fit(X_train, Y_train, epochs = 100, validation_split = 0.2, verbose = 1)"
      ],
      "execution_count": 28,
      "outputs": [
        {
          "output_type": "stream",
          "text": [
            "Epoch 1/100\n",
            "10/10 [==============================] - 0s 13ms/step - loss: 1.2035 - mae: 0.9489 - val_loss: 1.3108 - val_mae: 0.9961\n",
            "Epoch 2/100\n",
            "10/10 [==============================] - 0s 5ms/step - loss: 1.1571 - mae: 0.9311 - val_loss: 1.1778 - val_mae: 0.9401\n",
            "Epoch 3/100\n",
            "10/10 [==============================] - 0s 5ms/step - loss: 0.9671 - mae: 0.8565 - val_loss: 1.0027 - val_mae: 0.8496\n",
            "Epoch 4/100\n",
            "10/10 [==============================] - 0s 5ms/step - loss: 0.8359 - mae: 0.8005 - val_loss: 0.8921 - val_mae: 0.8074\n",
            "Epoch 5/100\n",
            "10/10 [==============================] - 0s 5ms/step - loss: 0.7901 - mae: 0.7751 - val_loss: 0.9060 - val_mae: 0.8011\n",
            "Epoch 6/100\n",
            "10/10 [==============================] - 0s 5ms/step - loss: 0.7703 - mae: 0.7636 - val_loss: 0.8525 - val_mae: 0.7889\n",
            "Epoch 7/100\n",
            "10/10 [==============================] - 0s 5ms/step - loss: 0.7443 - mae: 0.7541 - val_loss: 0.8807 - val_mae: 0.7962\n",
            "Epoch 8/100\n",
            "10/10 [==============================] - 0s 4ms/step - loss: 0.7075 - mae: 0.7332 - val_loss: 0.8120 - val_mae: 0.7669\n",
            "Epoch 9/100\n",
            "10/10 [==============================] - 0s 5ms/step - loss: 0.6780 - mae: 0.7126 - val_loss: 0.8295 - val_mae: 0.7766\n",
            "Epoch 10/100\n",
            "10/10 [==============================] - 0s 5ms/step - loss: 0.6723 - mae: 0.7012 - val_loss: 0.8174 - val_mae: 0.7653\n",
            "Epoch 11/100\n",
            "10/10 [==============================] - 0s 5ms/step - loss: 0.6540 - mae: 0.6925 - val_loss: 0.8065 - val_mae: 0.7652\n",
            "Epoch 12/100\n",
            "10/10 [==============================] - 0s 5ms/step - loss: 0.6618 - mae: 0.6986 - val_loss: 0.8402 - val_mae: 0.7779\n",
            "Epoch 13/100\n",
            "10/10 [==============================] - 0s 4ms/step - loss: 0.6510 - mae: 0.6921 - val_loss: 0.8372 - val_mae: 0.7775\n",
            "Epoch 14/100\n",
            "10/10 [==============================] - 0s 4ms/step - loss: 0.6503 - mae: 0.6932 - val_loss: 0.8251 - val_mae: 0.7726\n",
            "Epoch 15/100\n",
            "10/10 [==============================] - 0s 4ms/step - loss: 0.6462 - mae: 0.6902 - val_loss: 0.8515 - val_mae: 0.7802\n",
            "Epoch 16/100\n",
            "10/10 [==============================] - 0s 4ms/step - loss: 0.6462 - mae: 0.6877 - val_loss: 0.8432 - val_mae: 0.7785\n",
            "Epoch 17/100\n",
            "10/10 [==============================] - 0s 5ms/step - loss: 0.6851 - mae: 0.7095 - val_loss: 0.8398 - val_mae: 0.7781\n",
            "Epoch 18/100\n",
            "10/10 [==============================] - 0s 5ms/step - loss: 0.6905 - mae: 0.7127 - val_loss: 0.8212 - val_mae: 0.7624\n",
            "Epoch 19/100\n",
            "10/10 [==============================] - 0s 6ms/step - loss: 0.6460 - mae: 0.6889 - val_loss: 0.8593 - val_mae: 0.7827\n",
            "Epoch 20/100\n",
            "10/10 [==============================] - 0s 5ms/step - loss: 0.6411 - mae: 0.6863 - val_loss: 0.8538 - val_mae: 0.7818\n",
            "Epoch 21/100\n",
            "10/10 [==============================] - 0s 4ms/step - loss: 0.6840 - mae: 0.7116 - val_loss: 0.8473 - val_mae: 0.7824\n",
            "Epoch 22/100\n",
            "10/10 [==============================] - 0s 5ms/step - loss: 0.6581 - mae: 0.6960 - val_loss: 0.8171 - val_mae: 0.7613\n",
            "Epoch 23/100\n",
            "10/10 [==============================] - 0s 4ms/step - loss: 0.6580 - mae: 0.6973 - val_loss: 0.8410 - val_mae: 0.7797\n",
            "Epoch 24/100\n",
            "10/10 [==============================] - 0s 5ms/step - loss: 0.6497 - mae: 0.6939 - val_loss: 0.8025 - val_mae: 0.7568\n",
            "Epoch 25/100\n",
            "10/10 [==============================] - 0s 5ms/step - loss: 0.6494 - mae: 0.6924 - val_loss: 0.8603 - val_mae: 0.7832\n",
            "Epoch 26/100\n",
            "10/10 [==============================] - 0s 5ms/step - loss: 0.6560 - mae: 0.6921 - val_loss: 0.7862 - val_mae: 0.7485\n",
            "Epoch 27/100\n",
            "10/10 [==============================] - 0s 5ms/step - loss: 0.6484 - mae: 0.6918 - val_loss: 0.8547 - val_mae: 0.7809\n",
            "Epoch 28/100\n",
            "10/10 [==============================] - 0s 5ms/step - loss: 0.6428 - mae: 0.6877 - val_loss: 0.8288 - val_mae: 0.7747\n",
            "Epoch 29/100\n",
            "10/10 [==============================] - 0s 5ms/step - loss: 0.6483 - mae: 0.6916 - val_loss: 0.8597 - val_mae: 0.7820\n",
            "Epoch 30/100\n",
            "10/10 [==============================] - 0s 5ms/step - loss: 0.6393 - mae: 0.6852 - val_loss: 0.8186 - val_mae: 0.7608\n",
            "Epoch 31/100\n",
            "10/10 [==============================] - 0s 6ms/step - loss: 0.6417 - mae: 0.6912 - val_loss: 0.8460 - val_mae: 0.7816\n",
            "Epoch 32/100\n",
            "10/10 [==============================] - 0s 5ms/step - loss: 0.6502 - mae: 0.6895 - val_loss: 0.8513 - val_mae: 0.7766\n",
            "Epoch 33/100\n",
            "10/10 [==============================] - 0s 5ms/step - loss: 0.6360 - mae: 0.6838 - val_loss: 0.8540 - val_mae: 0.7789\n",
            "Epoch 34/100\n",
            "10/10 [==============================] - 0s 5ms/step - loss: 0.6341 - mae: 0.6826 - val_loss: 0.8288 - val_mae: 0.7665\n",
            "Epoch 35/100\n",
            "10/10 [==============================] - 0s 5ms/step - loss: 0.6338 - mae: 0.6809 - val_loss: 0.8584 - val_mae: 0.7790\n",
            "Epoch 36/100\n",
            "10/10 [==============================] - 0s 5ms/step - loss: 0.6267 - mae: 0.6758 - val_loss: 0.8203 - val_mae: 0.7612\n",
            "Epoch 37/100\n",
            "10/10 [==============================] - 0s 5ms/step - loss: 0.6398 - mae: 0.6863 - val_loss: 0.8543 - val_mae: 0.7860\n",
            "Epoch 38/100\n",
            "10/10 [==============================] - 0s 4ms/step - loss: 0.6405 - mae: 0.6830 - val_loss: 0.8359 - val_mae: 0.7694\n",
            "Epoch 39/100\n",
            "10/10 [==============================] - 0s 5ms/step - loss: 0.6333 - mae: 0.6793 - val_loss: 0.8505 - val_mae: 0.7778\n",
            "Epoch 40/100\n",
            "10/10 [==============================] - 0s 5ms/step - loss: 0.6311 - mae: 0.6783 - val_loss: 0.8490 - val_mae: 0.7816\n",
            "Epoch 41/100\n",
            "10/10 [==============================] - 0s 6ms/step - loss: 0.6285 - mae: 0.6795 - val_loss: 0.8442 - val_mae: 0.7756\n",
            "Epoch 42/100\n",
            "10/10 [==============================] - 0s 5ms/step - loss: 0.6231 - mae: 0.6716 - val_loss: 0.8508 - val_mae: 0.7790\n",
            "Epoch 43/100\n",
            "10/10 [==============================] - 0s 5ms/step - loss: 0.6328 - mae: 0.6788 - val_loss: 0.8521 - val_mae: 0.7748\n",
            "Epoch 44/100\n",
            "10/10 [==============================] - 0s 5ms/step - loss: 0.6252 - mae: 0.6724 - val_loss: 0.8315 - val_mae: 0.7663\n",
            "Epoch 45/100\n",
            "10/10 [==============================] - 0s 5ms/step - loss: 0.6384 - mae: 0.6836 - val_loss: 0.8618 - val_mae: 0.7863\n",
            "Epoch 46/100\n",
            "10/10 [==============================] - 0s 5ms/step - loss: 0.6358 - mae: 0.6817 - val_loss: 0.8210 - val_mae: 0.7684\n",
            "Epoch 47/100\n",
            "10/10 [==============================] - 0s 4ms/step - loss: 0.6437 - mae: 0.6869 - val_loss: 0.8438 - val_mae: 0.7740\n",
            "Epoch 48/100\n",
            "10/10 [==============================] - 0s 4ms/step - loss: 0.6288 - mae: 0.6778 - val_loss: 0.8167 - val_mae: 0.7642\n",
            "Epoch 49/100\n",
            "10/10 [==============================] - 0s 4ms/step - loss: 0.6372 - mae: 0.6815 - val_loss: 0.8476 - val_mae: 0.7859\n",
            "Epoch 50/100\n",
            "10/10 [==============================] - 0s 5ms/step - loss: 0.6319 - mae: 0.6763 - val_loss: 0.8158 - val_mae: 0.7551\n",
            "Epoch 51/100\n",
            "10/10 [==============================] - 0s 4ms/step - loss: 0.6309 - mae: 0.6767 - val_loss: 0.8431 - val_mae: 0.7776\n",
            "Epoch 52/100\n",
            "10/10 [==============================] - 0s 5ms/step - loss: 0.6264 - mae: 0.6745 - val_loss: 0.8802 - val_mae: 0.7944\n",
            "Epoch 53/100\n",
            "10/10 [==============================] - 0s 5ms/step - loss: 0.6326 - mae: 0.6800 - val_loss: 0.8341 - val_mae: 0.7670\n",
            "Epoch 54/100\n",
            "10/10 [==============================] - 0s 5ms/step - loss: 0.6225 - mae: 0.6720 - val_loss: 0.8282 - val_mae: 0.7706\n",
            "Epoch 55/100\n",
            "10/10 [==============================] - 0s 5ms/step - loss: 0.6240 - mae: 0.6724 - val_loss: 0.8088 - val_mae: 0.7500\n",
            "Epoch 56/100\n",
            "10/10 [==============================] - 0s 4ms/step - loss: 0.6224 - mae: 0.6716 - val_loss: 0.8479 - val_mae: 0.7856\n",
            "Epoch 57/100\n",
            "10/10 [==============================] - 0s 5ms/step - loss: 0.6341 - mae: 0.6785 - val_loss: 0.8271 - val_mae: 0.7628\n",
            "Epoch 58/100\n",
            "10/10 [==============================] - 0s 5ms/step - loss: 0.6235 - mae: 0.6720 - val_loss: 0.8456 - val_mae: 0.7840\n",
            "Epoch 59/100\n",
            "10/10 [==============================] - 0s 4ms/step - loss: 0.6264 - mae: 0.6748 - val_loss: 0.8441 - val_mae: 0.7733\n",
            "Epoch 60/100\n",
            "10/10 [==============================] - 0s 5ms/step - loss: 0.6241 - mae: 0.6730 - val_loss: 0.8417 - val_mae: 0.7721\n",
            "Epoch 61/100\n",
            "10/10 [==============================] - 0s 5ms/step - loss: 0.6239 - mae: 0.6722 - val_loss: 0.8714 - val_mae: 0.7914\n",
            "Epoch 62/100\n",
            "10/10 [==============================] - 0s 5ms/step - loss: 0.6215 - mae: 0.6693 - val_loss: 0.8520 - val_mae: 0.7776\n",
            "Epoch 63/100\n",
            "10/10 [==============================] - 0s 4ms/step - loss: 0.6210 - mae: 0.6708 - val_loss: 0.8357 - val_mae: 0.7655\n",
            "Epoch 64/100\n",
            "10/10 [==============================] - 0s 4ms/step - loss: 0.6200 - mae: 0.6695 - val_loss: 0.8451 - val_mae: 0.7772\n",
            "Epoch 65/100\n",
            "10/10 [==============================] - 0s 4ms/step - loss: 0.6198 - mae: 0.6692 - val_loss: 0.8352 - val_mae: 0.7725\n",
            "Epoch 66/100\n",
            "10/10 [==============================] - 0s 4ms/step - loss: 0.6198 - mae: 0.6690 - val_loss: 0.8342 - val_mae: 0.7743\n",
            "Epoch 67/100\n",
            "10/10 [==============================] - 0s 4ms/step - loss: 0.6198 - mae: 0.6690 - val_loss: 0.8363 - val_mae: 0.7764\n",
            "Epoch 68/100\n",
            "10/10 [==============================] - 0s 5ms/step - loss: 0.6196 - mae: 0.6688 - val_loss: 0.8386 - val_mae: 0.7788\n",
            "Epoch 69/100\n",
            "10/10 [==============================] - 0s 5ms/step - loss: 0.6198 - mae: 0.6688 - val_loss: 0.8439 - val_mae: 0.7831\n",
            "Epoch 70/100\n",
            "10/10 [==============================] - 0s 4ms/step - loss: 0.6184 - mae: 0.6669 - val_loss: 0.8414 - val_mae: 0.7726\n",
            "Epoch 71/100\n",
            "10/10 [==============================] - 0s 5ms/step - loss: 0.6252 - mae: 0.6715 - val_loss: 0.8504 - val_mae: 0.7862\n",
            "Epoch 72/100\n",
            "10/10 [==============================] - 0s 5ms/step - loss: 0.6270 - mae: 0.6745 - val_loss: 0.8128 - val_mae: 0.7557\n",
            "Epoch 73/100\n",
            "10/10 [==============================] - 0s 5ms/step - loss: 0.6488 - mae: 0.6906 - val_loss: 0.8787 - val_mae: 0.7933\n",
            "Epoch 74/100\n",
            "10/10 [==============================] - 0s 4ms/step - loss: 0.6232 - mae: 0.6741 - val_loss: 0.8599 - val_mae: 0.7850\n",
            "Epoch 75/100\n",
            "10/10 [==============================] - 0s 4ms/step - loss: 0.6205 - mae: 0.6693 - val_loss: 0.8713 - val_mae: 0.7902\n",
            "Epoch 76/100\n",
            "10/10 [==============================] - 0s 5ms/step - loss: 0.6201 - mae: 0.6692 - val_loss: 0.8751 - val_mae: 0.7928\n",
            "Epoch 77/100\n",
            "10/10 [==============================] - 0s 5ms/step - loss: 0.6195 - mae: 0.6684 - val_loss: 0.8721 - val_mae: 0.7920\n",
            "Epoch 78/100\n",
            "10/10 [==============================] - 0s 4ms/step - loss: 0.6187 - mae: 0.6677 - val_loss: 0.8650 - val_mae: 0.7864\n",
            "Epoch 79/100\n",
            "10/10 [==============================] - 0s 5ms/step - loss: 0.6182 - mae: 0.6670 - val_loss: 0.8498 - val_mae: 0.7767\n",
            "Epoch 80/100\n",
            "10/10 [==============================] - 0s 5ms/step - loss: 0.6199 - mae: 0.6700 - val_loss: 0.8432 - val_mae: 0.7703\n",
            "Epoch 81/100\n",
            "10/10 [==============================] - 0s 5ms/step - loss: 0.6186 - mae: 0.6683 - val_loss: 0.8371 - val_mae: 0.7664\n",
            "Epoch 82/100\n",
            "10/10 [==============================] - 0s 4ms/step - loss: 0.6190 - mae: 0.6694 - val_loss: 0.8522 - val_mae: 0.7781\n",
            "Epoch 83/100\n",
            "10/10 [==============================] - 0s 4ms/step - loss: 0.6189 - mae: 0.6678 - val_loss: 0.8461 - val_mae: 0.7847\n",
            "Epoch 84/100\n",
            "10/10 [==============================] - 0s 5ms/step - loss: 0.6188 - mae: 0.6679 - val_loss: 0.8257 - val_mae: 0.7631\n",
            "Epoch 85/100\n",
            "10/10 [==============================] - 0s 5ms/step - loss: 0.6199 - mae: 0.6698 - val_loss: 0.8272 - val_mae: 0.7639\n",
            "Epoch 86/100\n",
            "10/10 [==============================] - 0s 5ms/step - loss: 0.6189 - mae: 0.6685 - val_loss: 0.8429 - val_mae: 0.7825\n",
            "Epoch 87/100\n",
            "10/10 [==============================] - 0s 4ms/step - loss: 0.6187 - mae: 0.6677 - val_loss: 0.8601 - val_mae: 0.7834\n",
            "Epoch 88/100\n",
            "10/10 [==============================] - 0s 5ms/step - loss: 0.6180 - mae: 0.6665 - val_loss: 0.8625 - val_mae: 0.7885\n",
            "Epoch 89/100\n",
            "10/10 [==============================] - 0s 4ms/step - loss: 0.6179 - mae: 0.6672 - val_loss: 0.8477 - val_mae: 0.7710\n",
            "Epoch 90/100\n",
            "10/10 [==============================] - 0s 5ms/step - loss: 0.6177 - mae: 0.6668 - val_loss: 0.8487 - val_mae: 0.7731\n",
            "Epoch 91/100\n",
            "10/10 [==============================] - 0s 4ms/step - loss: 0.6176 - mae: 0.6665 - val_loss: 0.8494 - val_mae: 0.7737\n",
            "Epoch 92/100\n",
            "10/10 [==============================] - 0s 4ms/step - loss: 0.6175 - mae: 0.6660 - val_loss: 0.8454 - val_mae: 0.7713\n",
            "Epoch 93/100\n",
            "10/10 [==============================] - 0s 4ms/step - loss: 0.6177 - mae: 0.6667 - val_loss: 0.8519 - val_mae: 0.7754\n",
            "Epoch 94/100\n",
            "10/10 [==============================] - 0s 4ms/step - loss: 0.6172 - mae: 0.6652 - val_loss: 0.8535 - val_mae: 0.7771\n",
            "Epoch 95/100\n",
            "10/10 [==============================] - 0s 4ms/step - loss: 0.6175 - mae: 0.6662 - val_loss: 0.8535 - val_mae: 0.7761\n",
            "Epoch 96/100\n",
            "10/10 [==============================] - 0s 6ms/step - loss: 0.6174 - mae: 0.6661 - val_loss: 0.8558 - val_mae: 0.7778\n",
            "Epoch 97/100\n",
            "10/10 [==============================] - 0s 5ms/step - loss: 0.6174 - mae: 0.6660 - val_loss: 0.8527 - val_mae: 0.7746\n",
            "Epoch 98/100\n",
            "10/10 [==============================] - 0s 5ms/step - loss: 0.6175 - mae: 0.6662 - val_loss: 0.8626 - val_mae: 0.7854\n",
            "Epoch 99/100\n",
            "10/10 [==============================] - 0s 5ms/step - loss: 0.6193 - mae: 0.6686 - val_loss: 0.8640 - val_mae: 0.7878\n",
            "Epoch 100/100\n",
            "10/10 [==============================] - 0s 5ms/step - loss: 0.6178 - mae: 0.6664 - val_loss: 0.8462 - val_mae: 0.7744\n"
          ],
          "name": "stdout"
        }
      ]
    },
    {
      "cell_type": "code",
      "metadata": {
        "id": "TZpbMrmPi-1y",
        "colab_type": "code",
        "colab": {
          "base_uri": "https://localhost:8080/",
          "height": 34
        },
        "outputId": "c153a556-de26-4160-e0c0-c2ca3dff547b"
      },
      "source": [
        "# Evaluate the model on the test set\n",
        "mse, mae = model.evaluate(X_test, Y_test)"
      ],
      "execution_count": 29,
      "outputs": [
        {
          "output_type": "stream",
          "text": [
            "2/2 [==============================] - 0s 2ms/step - loss: 0.8522 - mae: 0.7947\n"
          ],
          "name": "stdout"
        }
      ]
    },
    {
      "cell_type": "markdown",
      "metadata": {
        "id": "foqWfalDi-11",
        "colab_type": "text"
      },
      "source": [
        "#### Plot the learning curves"
      ]
    },
    {
      "cell_type": "code",
      "metadata": {
        "id": "nozzfCQRi-12",
        "colab_type": "code",
        "colab": {}
      },
      "source": [
        "import matplotlib.pyplot as plt\n",
        "%matplotlib inline"
      ],
      "execution_count": 30,
      "outputs": []
    },
    {
      "cell_type": "code",
      "metadata": {
        "id": "8ftfQ200i-16",
        "colab_type": "code",
        "colab": {
          "base_uri": "https://localhost:8080/",
          "height": 295
        },
        "outputId": "0668b022-843f-4b15-8f42-303146d73858"
      },
      "source": [
        "# Plot the training and validation loss\n",
        "\n",
        "plt.plot(history.history['loss'])\n",
        "plt.plot(history.history['val_loss'])\n",
        "plt.title('Loss vs. epochs')\n",
        "plt.ylabel('Loss')\n",
        "plt.xlabel('Epoch')\n",
        "plt.legend(['Training', 'Validation'], loc='upper right')\n",
        "plt.show()"
      ],
      "execution_count": 31,
      "outputs": [
        {
          "output_type": "display_data",
          "data": {
            "image/png": "[encoded data removed]",
            "text/plain": [
              "<Figure size 432x288 with 1 Axes>"
            ]
          },
          "metadata": {
            "tags": [],
            "needs_background": "light"
          }
        }
      ]
    },
    {
      "cell_type": "markdown",
      "metadata": {
        "id": "4NGDz2Pbi-1_",
        "colab_type": "text"
      },
      "source": [
        "***\n",
        "<a id=\"coding_tutorial_2\"></a>\n",
        "## Model regularisation"
      ]
    },
    {
      "cell_type": "markdown",
      "metadata": {
        "id": "vEtgWTg-i-2A",
        "colab_type": "text"
      },
      "source": [
        "#### Adding regularisation with weight decay and dropout"
      ]
    },
    {
      "cell_type": "code",
      "metadata": {
        "id": "JoJZqolWi-2B",
        "colab_type": "code",
        "colab": {}
      },
      "source": [
        "from tensorflow.keras.layers import Dropout, BatchNormalization\n",
        "from tensorflow.keras import regularizers"
      ],
      "execution_count": 32,
      "outputs": []
    },
    {
      "cell_type": "code",
      "metadata": {
        "id": "9083RbKai-2F",
        "colab_type": "code",
        "colab": {}
      },
      "source": [
        "def get_regularised_model(wd, rate):\n",
        "    model = Sequential([\n",
        "        Dense(128, activation=\"relu\", kernel_regularizer = regularizers.l2(wd), input_shape=(X_train.shape[1],)),\n",
        "        BatchNormalization(),\n",
        "        Dropout(rate = 0.3),\n",
        "        Dense(128, kernel_regularizer = regularizers.l2(wd), activation=\"relu\"),\n",
        "        BatchNormalization(),\n",
        "        Dropout(rate = 0.3),\n",
        "        Dense(128, kernel_regularizer = regularizers.l2(wd), activation=\"relu\"),\n",
        "        BatchNormalization(),\n",
        "        Dropout(rate = 0.3),\n",
        "        Dense(128, kernel_regularizer = regularizers.l2(wd), activation=\"relu\"),\n",
        "        BatchNormalization(),\n",
        "        Dropout(rate = 0.3),\n",
        "        Dense(128, kernel_regularizer = regularizers.l2(wd), activation=\"relu\"),\n",
        "        BatchNormalization(),\n",
        "        Dropout(rate = 0.3),\n",
        "        Dense(128, kernel_regularizer = regularizers.l2(wd), activation=\"relu\"),\n",
        "        BatchNormalization(),\n",
        "        Dense(1)\n",
        "    ])\n",
        "    return model"
      ],
      "execution_count": 33,
      "outputs": []
    },
    {
      "cell_type": "code",
      "metadata": {
        "id": "-cgUJRuHi-2J",
        "colab_type": "code",
        "colab": {}
      },
      "source": [
        "# Re-build the model with weight decay and dropout layers\n",
        "model = get_regularised_model(1e-5, 0.3)"
      ],
      "execution_count": 34,
      "outputs": []
    },
    {
      "cell_type": "code",
      "metadata": {
        "id": "yWPeZfI9i-2M",
        "colab_type": "code",
        "colab": {}
      },
      "source": [
        "# Compile the model\n",
        "model.compile(optimizer = 'adam', loss = 'mse', metrics = ['mae'])"
      ],
      "execution_count": 35,
      "outputs": []
    },
    {
      "cell_type": "code",
      "metadata": {
        "id": "K7AEfwPQi-2Q",
        "colab_type": "code",
        "colab": {
          "base_uri": "https://localhost:8080/",
          "height": 1000
        },
        "outputId": "a3a5c234-dd37-4f76-c2ca-9050ee2af64e"
      },
      "source": [
        "# Train the model, with some of the data reserved for validation\n",
        "history = model.fit(X_train, Y_train, epochs = 100, validation_split = 0.2)"
      ],
      "execution_count": 36,
      "outputs": [
        {
          "output_type": "stream",
          "text": [
            "Epoch 1/100\n",
            "10/10 [==============================] - 0s 23ms/step - loss: 2.1096 - mae: 1.1377 - val_loss: 1.0857 - val_mae: 0.8744\n",
            "Epoch 2/100\n",
            "10/10 [==============================] - 0s 6ms/step - loss: 1.7124 - mae: 1.0369 - val_loss: 1.0852 - val_mae: 0.8734\n",
            "Epoch 3/100\n",
            "10/10 [==============================] - 0s 6ms/step - loss: 1.4910 - mae: 0.9729 - val_loss: 1.0855 - val_mae: 0.8698\n",
            "Epoch 4/100\n",
            "10/10 [==============================] - 0s 5ms/step - loss: 1.2949 - mae: 0.9216 - val_loss: 1.0839 - val_mae: 0.8733\n",
            "Epoch 5/100\n",
            "10/10 [==============================] - 0s 6ms/step - loss: 1.2979 - mae: 0.9095 - val_loss: 1.0829 - val_mae: 0.8697\n",
            "Epoch 6/100\n",
            "10/10 [==============================] - 0s 6ms/step - loss: 1.1521 - mae: 0.8472 - val_loss: 1.0840 - val_mae: 0.8687\n",
            "Epoch 7/100\n",
            "10/10 [==============================] - 0s 6ms/step - loss: 1.2401 - mae: 0.8893 - val_loss: 1.0881 - val_mae: 0.8640\n",
            "Epoch 8/100\n",
            "10/10 [==============================] - 0s 5ms/step - loss: 1.1101 - mae: 0.8389 - val_loss: 1.0815 - val_mae: 0.8701\n",
            "Epoch 9/100\n",
            "10/10 [==============================] - 0s 6ms/step - loss: 1.1111 - mae: 0.8418 - val_loss: 1.0804 - val_mae: 0.8712\n",
            "Epoch 10/100\n",
            "10/10 [==============================] - 0s 5ms/step - loss: 0.9615 - mae: 0.7944 - val_loss: 1.0780 - val_mae: 0.8659\n",
            "Epoch 11/100\n",
            "10/10 [==============================] - 0s 5ms/step - loss: 1.0080 - mae: 0.8057 - val_loss: 1.0813 - val_mae: 0.8589\n",
            "Epoch 12/100\n",
            "10/10 [==============================] - 0s 5ms/step - loss: 0.9231 - mae: 0.7705 - val_loss: 1.1018 - val_mae: 0.8571\n",
            "Epoch 13/100\n",
            "10/10 [==============================] - 0s 5ms/step - loss: 0.9318 - mae: 0.7644 - val_loss: 1.0988 - val_mae: 0.8561\n",
            "Epoch 14/100\n",
            "10/10 [==============================] - 0s 6ms/step - loss: 0.9367 - mae: 0.7707 - val_loss: 1.0945 - val_mae: 0.8567\n",
            "Epoch 15/100\n",
            "10/10 [==============================] - 0s 6ms/step - loss: 0.8938 - mae: 0.7668 - val_loss: 1.0895 - val_mae: 0.8556\n",
            "Epoch 16/100\n",
            "10/10 [==============================] - 0s 5ms/step - loss: 0.7992 - mae: 0.7002 - val_loss: 1.2237 - val_mae: 0.8798\n",
            "Epoch 17/100\n",
            "10/10 [==============================] - 0s 6ms/step - loss: 0.8154 - mae: 0.7293 - val_loss: 1.2024 - val_mae: 0.8750\n",
            "Epoch 18/100\n",
            "10/10 [==============================] - 0s 5ms/step - loss: 0.8247 - mae: 0.7179 - val_loss: 1.2025 - val_mae: 0.8759\n",
            "Epoch 19/100\n",
            "10/10 [==============================] - 0s 5ms/step - loss: 0.7735 - mae: 0.7164 - val_loss: 1.1849 - val_mae: 0.8707\n",
            "Epoch 20/100\n",
            "10/10 [==============================] - 0s 6ms/step - loss: 0.8127 - mae: 0.7229 - val_loss: 1.1451 - val_mae: 0.8604\n",
            "Epoch 21/100\n",
            "10/10 [==============================] - 0s 5ms/step - loss: 0.7453 - mae: 0.6959 - val_loss: 1.1543 - val_mae: 0.8612\n",
            "Epoch 22/100\n",
            "10/10 [==============================] - 0s 6ms/step - loss: 0.8011 - mae: 0.7285 - val_loss: 1.1414 - val_mae: 0.8556\n",
            "Epoch 23/100\n",
            "10/10 [==============================] - 0s 6ms/step - loss: 0.8086 - mae: 0.7199 - val_loss: 1.1300 - val_mae: 0.8516\n",
            "Epoch 24/100\n",
            "10/10 [==============================] - 0s 6ms/step - loss: 0.7318 - mae: 0.6876 - val_loss: 1.1022 - val_mae: 0.8424\n",
            "Epoch 25/100\n",
            "10/10 [==============================] - 0s 6ms/step - loss: 0.7148 - mae: 0.6736 - val_loss: 1.1258 - val_mae: 0.8506\n",
            "Epoch 26/100\n",
            "10/10 [==============================] - 0s 6ms/step - loss: 0.6969 - mae: 0.6761 - val_loss: 1.3036 - val_mae: 0.8950\n",
            "Epoch 27/100\n",
            "10/10 [==============================] - 0s 6ms/step - loss: 0.7301 - mae: 0.7017 - val_loss: 1.2774 - val_mae: 0.8836\n",
            "Epoch 28/100\n",
            "10/10 [==============================] - 0s 6ms/step - loss: 0.7151 - mae: 0.6897 - val_loss: 1.1635 - val_mae: 0.8566\n",
            "Epoch 29/100\n",
            "10/10 [==============================] - 0s 6ms/step - loss: 0.6699 - mae: 0.6417 - val_loss: 1.1634 - val_mae: 0.8598\n",
            "Epoch 30/100\n",
            "10/10 [==============================] - 0s 5ms/step - loss: 0.6869 - mae: 0.6449 - val_loss: 1.1402 - val_mae: 0.8538\n",
            "Epoch 31/100\n",
            "10/10 [==============================] - 0s 5ms/step - loss: 0.6975 - mae: 0.6668 - val_loss: 1.1657 - val_mae: 0.8631\n",
            "Epoch 32/100\n",
            "10/10 [==============================] - 0s 5ms/step - loss: 0.6114 - mae: 0.6415 - val_loss: 1.2823 - val_mae: 0.8883\n",
            "Epoch 33/100\n",
            "10/10 [==============================] - 0s 6ms/step - loss: 0.6245 - mae: 0.6274 - val_loss: 1.3388 - val_mae: 0.9012\n",
            "Epoch 34/100\n",
            "10/10 [==============================] - 0s 5ms/step - loss: 0.5925 - mae: 0.6189 - val_loss: 1.3503 - val_mae: 0.9136\n",
            "Epoch 35/100\n",
            "10/10 [==============================] - 0s 5ms/step - loss: 0.6493 - mae: 0.6487 - val_loss: 1.3118 - val_mae: 0.9030\n",
            "Epoch 36/100\n",
            "10/10 [==============================] - 0s 6ms/step - loss: 0.6009 - mae: 0.6304 - val_loss: 1.2904 - val_mae: 0.8990\n",
            "Epoch 37/100\n",
            "10/10 [==============================] - 0s 6ms/step - loss: 0.5797 - mae: 0.6220 - val_loss: 1.2249 - val_mae: 0.8801\n",
            "Epoch 38/100\n",
            "10/10 [==============================] - 0s 6ms/step - loss: 0.5923 - mae: 0.6217 - val_loss: 1.0792 - val_mae: 0.8312\n",
            "Epoch 39/100\n",
            "10/10 [==============================] - 0s 5ms/step - loss: 0.6239 - mae: 0.6379 - val_loss: 1.0658 - val_mae: 0.8252\n",
            "Epoch 40/100\n",
            "10/10 [==============================] - 0s 5ms/step - loss: 0.6088 - mae: 0.6327 - val_loss: 1.0947 - val_mae: 0.8340\n",
            "Epoch 41/100\n",
            "10/10 [==============================] - 0s 6ms/step - loss: 0.6447 - mae: 0.6287 - val_loss: 1.0947 - val_mae: 0.8349\n",
            "Epoch 42/100\n",
            "10/10 [==============================] - 0s 6ms/step - loss: 0.5994 - mae: 0.6249 - val_loss: 0.9639 - val_mae: 0.7849\n",
            "Epoch 43/100\n",
            "10/10 [==============================] - 0s 6ms/step - loss: 0.5437 - mae: 0.5934 - val_loss: 0.9264 - val_mae: 0.7781\n",
            "Epoch 44/100\n",
            "10/10 [==============================] - 0s 6ms/step - loss: 0.5896 - mae: 0.6280 - val_loss: 0.9234 - val_mae: 0.7676\n",
            "Epoch 45/100\n",
            "10/10 [==============================] - 0s 6ms/step - loss: 0.5756 - mae: 0.6119 - val_loss: 0.9084 - val_mae: 0.7491\n",
            "Epoch 46/100\n",
            "10/10 [==============================] - 0s 6ms/step - loss: 0.6145 - mae: 0.6272 - val_loss: 1.0014 - val_mae: 0.7816\n",
            "Epoch 47/100\n",
            "10/10 [==============================] - 0s 6ms/step - loss: 0.5774 - mae: 0.6034 - val_loss: 0.9487 - val_mae: 0.7666\n",
            "Epoch 48/100\n",
            "10/10 [==============================] - 0s 6ms/step - loss: 0.5537 - mae: 0.5966 - val_loss: 0.8538 - val_mae: 0.7256\n",
            "Epoch 49/100\n",
            "10/10 [==============================] - 0s 5ms/step - loss: 0.5863 - mae: 0.6303 - val_loss: 0.8879 - val_mae: 0.7459\n",
            "Epoch 50/100\n",
            "10/10 [==============================] - 0s 5ms/step - loss: 0.5104 - mae: 0.5809 - val_loss: 0.8999 - val_mae: 0.7374\n",
            "Epoch 51/100\n",
            "10/10 [==============================] - 0s 6ms/step - loss: 0.5496 - mae: 0.5954 - val_loss: 0.8860 - val_mae: 0.7225\n",
            "Epoch 52/100\n",
            "10/10 [==============================] - 0s 7ms/step - loss: 0.5440 - mae: 0.5948 - val_loss: 0.8823 - val_mae: 0.7198\n",
            "Epoch 53/100\n",
            "10/10 [==============================] - 0s 6ms/step - loss: 0.5621 - mae: 0.5999 - val_loss: 0.8360 - val_mae: 0.6954\n",
            "Epoch 54/100\n",
            "10/10 [==============================] - 0s 5ms/step - loss: 0.5220 - mae: 0.5762 - val_loss: 0.8617 - val_mae: 0.7072\n",
            "Epoch 55/100\n",
            "10/10 [==============================] - 0s 5ms/step - loss: 0.4896 - mae: 0.5561 - val_loss: 0.8085 - val_mae: 0.6873\n",
            "Epoch 56/100\n",
            "10/10 [==============================] - 0s 5ms/step - loss: 0.5219 - mae: 0.5735 - val_loss: 0.7449 - val_mae: 0.6605\n",
            "Epoch 57/100\n",
            "10/10 [==============================] - 0s 5ms/step - loss: 0.5119 - mae: 0.5633 - val_loss: 0.7409 - val_mae: 0.6642\n",
            "Epoch 58/100\n",
            "10/10 [==============================] - 0s 5ms/step - loss: 0.5306 - mae: 0.5878 - val_loss: 0.7810 - val_mae: 0.6771\n",
            "Epoch 59/100\n",
            "10/10 [==============================] - 0s 5ms/step - loss: 0.5355 - mae: 0.5821 - val_loss: 0.8132 - val_mae: 0.6879\n",
            "Epoch 60/100\n",
            "10/10 [==============================] - 0s 5ms/step - loss: 0.6001 - mae: 0.6387 - val_loss: 0.7992 - val_mae: 0.6869\n",
            "Epoch 61/100\n",
            "10/10 [==============================] - 0s 6ms/step - loss: 0.4868 - mae: 0.5655 - val_loss: 0.7608 - val_mae: 0.6689\n",
            "Epoch 62/100\n",
            "10/10 [==============================] - 0s 5ms/step - loss: 0.5364 - mae: 0.5716 - val_loss: 0.6897 - val_mae: 0.6299\n",
            "Epoch 63/100\n",
            "10/10 [==============================] - 0s 5ms/step - loss: 0.5185 - mae: 0.5660 - val_loss: 0.7223 - val_mae: 0.6475\n",
            "Epoch 64/100\n",
            "10/10 [==============================] - 0s 5ms/step - loss: 0.5133 - mae: 0.5766 - val_loss: 0.7414 - val_mae: 0.6600\n",
            "Epoch 65/100\n",
            "10/10 [==============================] - 0s 5ms/step - loss: 0.5149 - mae: 0.5720 - val_loss: 0.7300 - val_mae: 0.6465\n",
            "Epoch 66/100\n",
            "10/10 [==============================] - 0s 5ms/step - loss: 0.5545 - mae: 0.5742 - val_loss: 0.6924 - val_mae: 0.6277\n",
            "Epoch 67/100\n",
            "10/10 [==============================] - 0s 5ms/step - loss: 0.5169 - mae: 0.5740 - val_loss: 0.6726 - val_mae: 0.6198\n",
            "Epoch 68/100\n",
            "10/10 [==============================] - 0s 6ms/step - loss: 0.5139 - mae: 0.5689 - val_loss: 0.6339 - val_mae: 0.5962\n",
            "Epoch 69/100\n",
            "10/10 [==============================] - 0s 6ms/step - loss: 0.4756 - mae: 0.5453 - val_loss: 0.6172 - val_mae: 0.5866\n",
            "Epoch 70/100\n",
            "10/10 [==============================] - 0s 6ms/step - loss: 0.4973 - mae: 0.5621 - val_loss: 0.6577 - val_mae: 0.6153\n",
            "Epoch 71/100\n",
            "10/10 [==============================] - 0s 6ms/step - loss: 0.5395 - mae: 0.5930 - val_loss: 0.7021 - val_mae: 0.6401\n",
            "Epoch 72/100\n",
            "10/10 [==============================] - 0s 5ms/step - loss: 0.5521 - mae: 0.5915 - val_loss: 0.6667 - val_mae: 0.6137\n",
            "Epoch 73/100\n",
            "10/10 [==============================] - 0s 6ms/step - loss: 0.5370 - mae: 0.5827 - val_loss: 0.6442 - val_mae: 0.6041\n",
            "Epoch 74/100\n",
            "10/10 [==============================] - 0s 5ms/step - loss: 0.4757 - mae: 0.5407 - val_loss: 0.6570 - val_mae: 0.6129\n",
            "Epoch 75/100\n",
            "10/10 [==============================] - 0s 5ms/step - loss: 0.5550 - mae: 0.5884 - val_loss: 0.6594 - val_mae: 0.6160\n",
            "Epoch 76/100\n",
            "10/10 [==============================] - 0s 5ms/step - loss: 0.4535 - mae: 0.5461 - val_loss: 0.6474 - val_mae: 0.6097\n",
            "Epoch 77/100\n",
            "10/10 [==============================] - 0s 5ms/step - loss: 0.5211 - mae: 0.5770 - val_loss: 0.6378 - val_mae: 0.6027\n",
            "Epoch 78/100\n",
            "10/10 [==============================] - 0s 5ms/step - loss: 0.4382 - mae: 0.5242 - val_loss: 0.6401 - val_mae: 0.6019\n",
            "Epoch 79/100\n",
            "10/10 [==============================] - 0s 5ms/step - loss: 0.4376 - mae: 0.5501 - val_loss: 0.6299 - val_mae: 0.5969\n",
            "Epoch 80/100\n",
            "10/10 [==============================] - 0s 6ms/step - loss: 0.5032 - mae: 0.5699 - val_loss: 0.6276 - val_mae: 0.5930\n",
            "Epoch 81/100\n",
            "10/10 [==============================] - 0s 5ms/step - loss: 0.5223 - mae: 0.5777 - val_loss: 0.6547 - val_mae: 0.6071\n",
            "Epoch 82/100\n",
            "10/10 [==============================] - 0s 5ms/step - loss: 0.5110 - mae: 0.5755 - val_loss: 0.6167 - val_mae: 0.5863\n",
            "Epoch 83/100\n",
            "10/10 [==============================] - 0s 5ms/step - loss: 0.4655 - mae: 0.5432 - val_loss: 0.6021 - val_mae: 0.5808\n",
            "Epoch 84/100\n",
            "10/10 [==============================] - 0s 6ms/step - loss: 0.4928 - mae: 0.5530 - val_loss: 0.5935 - val_mae: 0.5786\n",
            "Epoch 85/100\n",
            "10/10 [==============================] - 0s 6ms/step - loss: 0.5277 - mae: 0.5711 - val_loss: 0.5886 - val_mae: 0.5763\n",
            "Epoch 86/100\n",
            "10/10 [==============================] - 0s 6ms/step - loss: 0.4992 - mae: 0.5739 - val_loss: 0.6066 - val_mae: 0.5860\n",
            "Epoch 87/100\n",
            "10/10 [==============================] - 0s 6ms/step - loss: 0.4741 - mae: 0.5612 - val_loss: 0.5971 - val_mae: 0.5807\n",
            "Epoch 88/100\n",
            "10/10 [==============================] - 0s 5ms/step - loss: 0.4909 - mae: 0.5513 - val_loss: 0.5801 - val_mae: 0.5725\n",
            "Epoch 89/100\n",
            "10/10 [==============================] - 0s 5ms/step - loss: 0.4552 - mae: 0.5343 - val_loss: 0.6175 - val_mae: 0.5902\n",
            "Epoch 90/100\n",
            "10/10 [==============================] - 0s 6ms/step - loss: 0.4869 - mae: 0.5627 - val_loss: 0.6255 - val_mae: 0.5958\n",
            "Epoch 91/100\n",
            "10/10 [==============================] - 0s 5ms/step - loss: 0.4756 - mae: 0.5438 - val_loss: 0.6082 - val_mae: 0.5877\n",
            "Epoch 92/100\n",
            "10/10 [==============================] - 0s 5ms/step - loss: 0.4720 - mae: 0.5541 - val_loss: 0.5853 - val_mae: 0.5771\n",
            "Epoch 93/100\n",
            "10/10 [==============================] - 0s 5ms/step - loss: 0.4600 - mae: 0.5473 - val_loss: 0.5727 - val_mae: 0.5713\n",
            "Epoch 94/100\n",
            "10/10 [==============================] - 0s 6ms/step - loss: 0.4381 - mae: 0.5447 - val_loss: 0.5772 - val_mae: 0.5749\n",
            "Epoch 95/100\n",
            "10/10 [==============================] - 0s 6ms/step - loss: 0.4538 - mae: 0.5363 - val_loss: 0.5773 - val_mae: 0.5731\n",
            "Epoch 96/100\n",
            "10/10 [==============================] - 0s 5ms/step - loss: 0.5053 - mae: 0.5663 - val_loss: 0.6005 - val_mae: 0.5835\n",
            "Epoch 97/100\n",
            "10/10 [==============================] - 0s 5ms/step - loss: 0.4793 - mae: 0.5380 - val_loss: 0.6266 - val_mae: 0.5951\n",
            "Epoch 98/100\n",
            "10/10 [==============================] - 0s 5ms/step - loss: 0.4850 - mae: 0.5564 - val_loss: 0.6292 - val_mae: 0.5977\n",
            "Epoch 99/100\n",
            "10/10 [==============================] - 0s 6ms/step - loss: 0.4461 - mae: 0.5265 - val_loss: 0.6351 - val_mae: 0.6032\n",
            "Epoch 100/100\n",
            "10/10 [==============================] - 0s 6ms/step - loss: 0.4562 - mae: 0.5339 - val_loss: 0.6339 - val_mae: 0.6030\n"
          ],
          "name": "stdout"
        }
      ]
    },
    {
      "cell_type": "code",
      "metadata": {
        "id": "KhAn2Ugzi-2V",
        "colab_type": "code",
        "colab": {
          "base_uri": "https://localhost:8080/",
          "height": 34
        },
        "outputId": "6297adad-0417-46bd-a3ba-2c99e94ea73b"
      },
      "source": [
        "# Evaluate the model on the test set\n",
        "mse, mae = model.evaluate(X_test, Y_test)"
      ],
      "execution_count": 37,
      "outputs": [
        {
          "output_type": "stream",
          "text": [
            "2/2 [==============================] - 0s 2ms/step - loss: 0.6298 - mae: 0.5950\n"
          ],
          "name": "stdout"
        }
      ]
    },
    {
      "cell_type": "markdown",
      "metadata": {
        "id": "sk8i1e0ji-2Y",
        "colab_type": "text"
      },
      "source": [
        "#### Plot the learning curves"
      ]
    },
    {
      "cell_type": "code",
      "metadata": {
        "id": "6L7V-AL1i-2Z",
        "colab_type": "code",
        "colab": {
          "base_uri": "https://localhost:8080/",
          "height": 295
        },
        "outputId": "df801762-5545-4968-d991-f7425d207bf9"
      },
      "source": [
        "# Plot the training and validation loss\n",
        "\n",
        "import matplotlib.pyplot as plt\n",
        "\n",
        "plt.plot(history.history['loss'])\n",
        "plt.plot(history.history['val_loss'])\n",
        "plt.title('Loss vs. epochs')\n",
        "plt.ylabel('Loss')\n",
        "plt.xlabel('Epoch')\n",
        "plt.legend(['Training', 'Validation'], loc='upper right')\n",
        "plt.show()"
      ],
      "execution_count": 38,
      "outputs": [
        {
          "output_type": "display_data",
          "data": {
            "image/png": "[encoded data removed]",
            "text/plain": [
              "<Figure size 432x288 with 1 Axes>"
            ]
          },
          "metadata": {
            "tags": [],
            "needs_background": "light"
          }
        }
      ]
    },
    {
      "cell_type": "markdown",
      "metadata": {
        "id": "q31VGAH5i-2d",
        "colab_type": "text"
      },
      "source": [
        "***\n",
        "<a id=\"coding_tutorial_3\"></a>\n",
        "## Introduction to callbacks"
      ]
    },
    {
      "cell_type": "markdown",
      "metadata": {
        "id": "a9bn1vagi-2e",
        "colab_type": "text"
      },
      "source": [
        "#### Example training callback"
      ]
    },
    {
      "cell_type": "code",
      "metadata": {
        "id": "u1W7rI7Fi-2f",
        "colab_type": "code",
        "colab": {}
      },
      "source": [
        "# Write a custom callback\n",
        "# NOTE: We have similar variants of functions in the Callback class (that we have subclassed below) which are used for \"testing\" and \"prediction\" as well.\n",
        "# Just swap out \"train\" by \"test/predict\" in the function names below.\n",
        "from tensorflow.keras.callbacks import Callback\n",
        "\n",
        "class custom_callback(Callback):\n",
        "  \n",
        "  def on_train_begin(self, logs = None):\n",
        "    print(\"Started training...\")\n",
        "  \n",
        "  def on_epoch_begin(self, epoch, logs = None):\n",
        "    print(f\"Started epoch {epoch}\")\n",
        "\n",
        "  def on_epoch_end(self, epoch, logs = None):\n",
        "    print(f\"Ending epoch {epoch}\")\n",
        "\n",
        "  def on_train_end(self, logs = None):\n",
        "    print(\"Completed training...\")"
      ],
      "execution_count": 48,
      "outputs": []
    },
    {
      "cell_type": "code",
      "metadata": {
        "id": "r3tJDCImi-2k",
        "colab_type": "code",
        "colab": {}
      },
      "source": [
        "# Re-build the model\n",
        "model = get_regularised_model(0.00001, 0.3)\n"
      ],
      "execution_count": 41,
      "outputs": []
    },
    {
      "cell_type": "code",
      "metadata": {
        "id": "cBUMeShfi-2n",
        "colab_type": "code",
        "colab": {}
      },
      "source": [
        "# Compile the model\n",
        "model.compile(optimizer = 'adam', loss = 'mse', metrics = ['mae'])\n"
      ],
      "execution_count": 43,
      "outputs": []
    },
    {
      "cell_type": "markdown",
      "metadata": {
        "id": "GCwOMmtJi-2t",
        "colab_type": "text"
      },
      "source": [
        "#### Train the model with the callback"
      ]
    },
    {
      "cell_type": "code",
      "metadata": {
        "id": "nqxGUqJ6i-2v",
        "colab_type": "code",
        "colab": {
          "base_uri": "https://localhost:8080/",
          "height": 1000
        },
        "outputId": "2a9efd1b-ef38-4d58-a14e-02e1eae1ca48"
      },
      "source": [
        "# Train the model, with some of the data reserved for validation\n",
        "model.fit(X_train, Y_train, epochs = 100, validation_split = 0.2, callbacks = [custom_callback()])\n"
      ],
      "execution_count": 44,
      "outputs": [
        {
          "output_type": "stream",
          "text": [
            "Started training...\n",
            "Started epoch 0\n",
            "Epoch 1/100\n",
            " 1/10 [==>...........................] - ETA: 0s - loss: 3.5345 - mae: 1.5829Ending epoch 0\n",
            "10/10 [==============================] - 0s 24ms/step - loss: 2.7081 - mae: 1.2785 - val_loss: 1.0881 - val_mae: 0.8653\n",
            "Started epoch 1\n",
            "Epoch 2/100\n",
            " 1/10 [==>...........................] - ETA: 0s - loss: 2.0942 - mae: 1.1515Ending epoch 1\n",
            "10/10 [==============================] - 0s 6ms/step - loss: 1.7856 - mae: 1.0802 - val_loss: 1.0991 - val_mae: 0.8609\n",
            "Started epoch 2\n",
            "Epoch 3/100\n",
            " 1/10 [==>...........................] - ETA: 0s - loss: 1.7871 - mae: 1.1021Ending epoch 2\n",
            "10/10 [==============================] - 0s 5ms/step - loss: 1.8461 - mae: 1.0806 - val_loss: 1.1005 - val_mae: 0.8609\n",
            "Started epoch 3\n",
            "Epoch 4/100\n",
            " 1/10 [==>...........................] - ETA: 0s - loss: 1.5449 - mae: 0.9493Ending epoch 3\n",
            "10/10 [==============================] - 0s 6ms/step - loss: 1.4565 - mae: 0.9565 - val_loss: 1.1124 - val_mae: 0.8617\n",
            "Started epoch 4\n",
            "Epoch 5/100\n",
            " 1/10 [==>...........................] - ETA: 0s - loss: 1.0548 - mae: 0.8526Ending epoch 4\n",
            "10/10 [==============================] - 0s 6ms/step - loss: 1.2861 - mae: 0.9099 - val_loss: 1.1204 - val_mae: 0.8628\n",
            "Started epoch 5\n",
            "Epoch 6/100\n",
            " 1/10 [==>...........................] - ETA: 0s - loss: 1.3278 - mae: 0.8401Ending epoch 5\n",
            "10/10 [==============================] - 0s 5ms/step - loss: 1.2164 - mae: 0.8818 - val_loss: 1.1392 - val_mae: 0.8638\n",
            "Started epoch 6\n",
            "Epoch 7/100\n",
            " 1/10 [==>...........................] - ETA: 0s - loss: 1.5467 - mae: 0.9455Ending epoch 6\n",
            "10/10 [==============================] - 0s 5ms/step - loss: 1.1921 - mae: 0.8667 - val_loss: 1.1483 - val_mae: 0.8648\n",
            "Started epoch 7\n",
            "Epoch 8/100\n",
            " 1/10 [==>...........................] - ETA: 0s - loss: 1.3415 - mae: 0.9433Ending epoch 7\n",
            "10/10 [==============================] - 0s 5ms/step - loss: 1.2943 - mae: 0.9141 - val_loss: 1.1526 - val_mae: 0.8655\n",
            "Started epoch 8\n",
            "Epoch 9/100\n",
            " 1/10 [==>...........................] - ETA: 0s - loss: 1.2065 - mae: 0.8574Ending epoch 8\n",
            "10/10 [==============================] - 0s 6ms/step - loss: 1.1460 - mae: 0.8599 - val_loss: 1.1114 - val_mae: 0.8602\n",
            "Started epoch 9\n",
            "Epoch 10/100\n",
            " 1/10 [==>...........................] - ETA: 0s - loss: 0.9346 - mae: 0.8031Ending epoch 9\n",
            "10/10 [==============================] - 0s 5ms/step - loss: 1.0605 - mae: 0.8292 - val_loss: 1.0882 - val_mae: 0.8580\n",
            "Started epoch 10\n",
            "Epoch 11/100\n",
            " 1/10 [==>...........................] - ETA: 0s - loss: 1.3559 - mae: 0.9146Ending epoch 10\n",
            "10/10 [==============================] - 0s 6ms/step - loss: 1.0531 - mae: 0.8112 - val_loss: 1.0824 - val_mae: 0.8572\n",
            "Started epoch 11\n",
            "Epoch 12/100\n",
            " 1/10 [==>...........................] - ETA: 0s - loss: 1.0271 - mae: 0.7970Ending epoch 11\n",
            "10/10 [==============================] - 0s 6ms/step - loss: 1.1067 - mae: 0.8423 - val_loss: 1.1230 - val_mae: 0.8584\n",
            "Started epoch 12\n",
            "Epoch 13/100\n",
            " 1/10 [==>...........................] - ETA: 0s - loss: 1.0956 - mae: 0.8281Ending epoch 12\n",
            "10/10 [==============================] - 0s 6ms/step - loss: 1.0364 - mae: 0.8140 - val_loss: 1.1542 - val_mae: 0.8621\n",
            "Started epoch 13\n",
            "Epoch 14/100\n",
            " 1/10 [==>...........................] - ETA: 0s - loss: 1.0303 - mae: 0.7258Ending epoch 13\n",
            "10/10 [==============================] - 0s 6ms/step - loss: 1.0346 - mae: 0.7991 - val_loss: 1.1418 - val_mae: 0.8588\n",
            "Started epoch 14\n",
            "Epoch 15/100\n",
            " 1/10 [==>...........................] - ETA: 0s - loss: 0.7726 - mae: 0.7305Ending epoch 14\n",
            "10/10 [==============================] - 0s 6ms/step - loss: 0.9193 - mae: 0.7742 - val_loss: 1.0808 - val_mae: 0.8506\n",
            "Started epoch 15\n",
            "Epoch 16/100\n",
            " 1/10 [==>...........................] - ETA: 0s - loss: 0.9213 - mae: 0.7672Ending epoch 15\n",
            "10/10 [==============================] - 0s 6ms/step - loss: 0.9458 - mae: 0.7805 - val_loss: 1.0818 - val_mae: 0.8486\n",
            "Started epoch 16\n",
            "Epoch 17/100\n",
            " 1/10 [==>...........................] - ETA: 0s - loss: 1.6653 - mae: 1.1184Ending epoch 16\n",
            "10/10 [==============================] - 0s 5ms/step - loss: 1.1272 - mae: 0.8468 - val_loss: 1.1071 - val_mae: 0.8494\n",
            "Started epoch 17\n",
            "Epoch 18/100\n",
            " 1/10 [==>...........................] - ETA: 0s - loss: 0.9097 - mae: 0.7930Ending epoch 17\n",
            "10/10 [==============================] - 0s 6ms/step - loss: 0.8556 - mae: 0.7591 - val_loss: 1.0602 - val_mae: 0.8400\n",
            "Started epoch 18\n",
            "Epoch 19/100\n",
            " 1/10 [==>...........................] - ETA: 0s - loss: 1.0878 - mae: 0.8722Ending epoch 18\n",
            "10/10 [==============================] - 0s 6ms/step - loss: 0.8605 - mae: 0.7451 - val_loss: 1.0601 - val_mae: 0.8412\n",
            "Started epoch 19\n",
            "Epoch 20/100\n",
            " 1/10 [==>...........................] - ETA: 0s - loss: 0.7234 - mae: 0.7111Ending epoch 19\n",
            "10/10 [==============================] - 0s 5ms/step - loss: 0.9022 - mae: 0.7581 - val_loss: 1.1017 - val_mae: 0.8476\n",
            "Started epoch 20\n",
            "Epoch 21/100\n",
            " 1/10 [==>...........................] - ETA: 0s - loss: 0.8540 - mae: 0.7646Ending epoch 20\n",
            "10/10 [==============================] - 0s 6ms/step - loss: 0.8997 - mae: 0.7570 - val_loss: 1.1087 - val_mae: 0.8480\n",
            "Started epoch 21\n",
            "Epoch 22/100\n",
            " 1/10 [==>...........................] - ETA: 0s - loss: 1.1409 - mae: 0.9001Ending epoch 21\n",
            "10/10 [==============================] - 0s 6ms/step - loss: 0.8752 - mae: 0.7617 - val_loss: 1.1913 - val_mae: 0.8667\n",
            "Started epoch 22\n",
            "Epoch 23/100\n",
            " 1/10 [==>...........................] - ETA: 0s - loss: 0.6719 - mae: 0.6669Ending epoch 22\n",
            "10/10 [==============================] - 0s 6ms/step - loss: 0.7606 - mae: 0.6847 - val_loss: 1.1851 - val_mae: 0.8640\n",
            "Started epoch 23\n",
            "Epoch 24/100\n",
            " 1/10 [==>...........................] - ETA: 0s - loss: 0.5258 - mae: 0.6058Ending epoch 23\n",
            "10/10 [==============================] - 0s 6ms/step - loss: 0.8341 - mae: 0.7420 - val_loss: 1.2134 - val_mae: 0.8701\n",
            "Started epoch 24\n",
            "Epoch 25/100\n",
            " 1/10 [==>...........................] - ETA: 0s - loss: 0.9643 - mae: 0.7505Ending epoch 24\n",
            "10/10 [==============================] - 0s 5ms/step - loss: 0.8098 - mae: 0.7215 - val_loss: 1.1059 - val_mae: 0.8422\n",
            "Started epoch 25\n",
            "Epoch 26/100\n",
            " 1/10 [==>...........................] - ETA: 0s - loss: 0.8750 - mae: 0.7700Ending epoch 25\n",
            "10/10 [==============================] - 0s 6ms/step - loss: 0.7164 - mae: 0.6783 - val_loss: 1.0152 - val_mae: 0.8205\n",
            "Started epoch 26\n",
            "Epoch 27/100\n",
            " 1/10 [==>...........................] - ETA: 0s - loss: 0.4558 - mae: 0.5680Ending epoch 26\n",
            "10/10 [==============================] - 0s 6ms/step - loss: 0.7027 - mae: 0.6581 - val_loss: 0.9803 - val_mae: 0.8170\n",
            "Started epoch 27\n",
            "Epoch 28/100\n",
            " 1/10 [==>...........................] - ETA: 0s - loss: 0.9644 - mae: 0.8040Ending epoch 27\n",
            "10/10 [==============================] - 0s 5ms/step - loss: 0.8015 - mae: 0.7172 - val_loss: 0.9800 - val_mae: 0.8074\n",
            "Started epoch 28\n",
            "Epoch 29/100\n",
            " 1/10 [==>...........................] - ETA: 0s - loss: 0.5314 - mae: 0.6071Ending epoch 28\n",
            "10/10 [==============================] - 0s 6ms/step - loss: 0.7485 - mae: 0.6852 - val_loss: 1.0070 - val_mae: 0.8133\n",
            "Started epoch 29\n",
            "Epoch 30/100\n",
            " 1/10 [==>...........................] - ETA: 0s - loss: 1.0379 - mae: 0.7714Ending epoch 29\n",
            "10/10 [==============================] - 0s 6ms/step - loss: 0.7760 - mae: 0.7046 - val_loss: 0.9460 - val_mae: 0.8135\n",
            "Started epoch 30\n",
            "Epoch 31/100\n",
            " 1/10 [==>...........................] - ETA: 0s - loss: 1.0306 - mae: 0.8349Ending epoch 30\n",
            "10/10 [==============================] - 0s 6ms/step - loss: 0.7513 - mae: 0.7049 - val_loss: 0.9300 - val_mae: 0.8041\n",
            "Started epoch 31\n",
            "Epoch 32/100\n",
            " 1/10 [==>...........................] - ETA: 0s - loss: 0.6818 - mae: 0.6379Ending epoch 31\n",
            "10/10 [==============================] - 0s 6ms/step - loss: 0.6948 - mae: 0.6585 - val_loss: 0.8940 - val_mae: 0.7886\n",
            "Started epoch 32\n",
            "Epoch 33/100\n",
            " 1/10 [==>...........................] - ETA: 0s - loss: 0.5396 - mae: 0.5976Ending epoch 32\n",
            "10/10 [==============================] - 0s 6ms/step - loss: 0.7468 - mae: 0.6956 - val_loss: 0.8947 - val_mae: 0.7799\n",
            "Started epoch 33\n",
            "Epoch 34/100\n",
            " 1/10 [==>...........................] - ETA: 0s - loss: 0.7800 - mae: 0.6544Ending epoch 33\n",
            "10/10 [==============================] - 0s 6ms/step - loss: 0.6954 - mae: 0.6616 - val_loss: 0.8738 - val_mae: 0.7619\n",
            "Started epoch 34\n",
            "Epoch 35/100\n",
            " 1/10 [==>...........................] - ETA: 0s - loss: 0.5274 - mae: 0.5574Ending epoch 34\n",
            "10/10 [==============================] - 0s 6ms/step - loss: 0.7622 - mae: 0.6884 - val_loss: 0.9045 - val_mae: 0.7727\n",
            "Started epoch 35\n",
            "Epoch 36/100\n",
            " 1/10 [==>...........................] - ETA: 0s - loss: 0.5222 - mae: 0.5880Ending epoch 35\n",
            "10/10 [==============================] - 0s 6ms/step - loss: 0.7120 - mae: 0.6683 - val_loss: 0.9192 - val_mae: 0.7767\n",
            "Started epoch 36\n",
            "Epoch 37/100\n",
            " 1/10 [==>...........................] - ETA: 0s - loss: 0.3983 - mae: 0.5003Ending epoch 36\n",
            "10/10 [==============================] - 0s 6ms/step - loss: 0.6826 - mae: 0.6559 - val_loss: 0.9002 - val_mae: 0.7734\n",
            "Started epoch 37\n",
            "Epoch 38/100\n",
            " 1/10 [==>...........................] - ETA: 0s - loss: 0.6752 - mae: 0.6818Ending epoch 37\n",
            "10/10 [==============================] - 0s 6ms/step - loss: 0.7039 - mae: 0.6740 - val_loss: 0.8979 - val_mae: 0.7823\n",
            "Started epoch 38\n",
            "Epoch 39/100\n",
            " 1/10 [==>...........................] - ETA: 0s - loss: 0.9430 - mae: 0.7242Ending epoch 38\n",
            "10/10 [==============================] - 0s 5ms/step - loss: 0.6743 - mae: 0.6446 - val_loss: 0.9031 - val_mae: 0.7858\n",
            "Started epoch 39\n",
            "Epoch 40/100\n",
            " 1/10 [==>...........................] - ETA: 0s - loss: 0.7337 - mae: 0.6776Ending epoch 39\n",
            "10/10 [==============================] - 0s 5ms/step - loss: 0.7354 - mae: 0.6899 - val_loss: 0.8545 - val_mae: 0.7787\n",
            "Started epoch 40\n",
            "Epoch 41/100\n",
            " 1/10 [==>...........................] - ETA: 0s - loss: 0.6705 - mae: 0.6073Ending epoch 40\n",
            "10/10 [==============================] - 0s 6ms/step - loss: 0.7028 - mae: 0.6614 - val_loss: 0.8091 - val_mae: 0.7527\n",
            "Started epoch 41\n",
            "Epoch 42/100\n",
            " 1/10 [==>...........................] - ETA: 0s - loss: 0.4102 - mae: 0.4914Ending epoch 41\n",
            "10/10 [==============================] - 0s 5ms/step - loss: 0.5566 - mae: 0.6024 - val_loss: 0.8355 - val_mae: 0.7376\n",
            "Started epoch 42\n",
            "Epoch 43/100\n",
            " 1/10 [==>...........................] - ETA: 0s - loss: 0.3754 - mae: 0.5134Ending epoch 42\n",
            "10/10 [==============================] - 0s 6ms/step - loss: 0.6442 - mae: 0.6418 - val_loss: 0.9606 - val_mae: 0.7645\n",
            "Started epoch 43\n",
            "Epoch 44/100\n",
            " 1/10 [==>...........................] - ETA: 0s - loss: 0.6152 - mae: 0.6429Ending epoch 43\n",
            "10/10 [==============================] - 0s 6ms/step - loss: 0.6107 - mae: 0.6144 - val_loss: 0.9893 - val_mae: 0.7729\n",
            "Started epoch 44\n",
            "Epoch 45/100\n",
            " 1/10 [==>...........................] - ETA: 0s - loss: 0.4785 - mae: 0.5242Ending epoch 44\n",
            "10/10 [==============================] - 0s 6ms/step - loss: 0.6206 - mae: 0.6147 - val_loss: 0.9628 - val_mae: 0.7683\n",
            "Started epoch 45\n",
            "Epoch 46/100\n",
            " 1/10 [==>...........................] - ETA: 0s - loss: 0.7673 - mae: 0.7372Ending epoch 45\n",
            "10/10 [==============================] - 0s 5ms/step - loss: 0.5923 - mae: 0.6132 - val_loss: 0.8829 - val_mae: 0.7482\n",
            "Started epoch 46\n",
            "Epoch 47/100\n",
            " 1/10 [==>...........................] - ETA: 0s - loss: 0.4923 - mae: 0.5844Ending epoch 46\n",
            "10/10 [==============================] - 0s 6ms/step - loss: 0.6714 - mae: 0.6480 - val_loss: 0.8418 - val_mae: 0.7322\n",
            "Started epoch 47\n",
            "Epoch 48/100\n",
            " 1/10 [==>...........................] - ETA: 0s - loss: 0.5948 - mae: 0.6150Ending epoch 47\n",
            "10/10 [==============================] - 0s 6ms/step - loss: 0.5780 - mae: 0.6116 - val_loss: 0.7874 - val_mae: 0.7062\n",
            "Started epoch 48\n",
            "Epoch 49/100\n",
            " 1/10 [==>...........................] - ETA: 0s - loss: 0.6752 - mae: 0.6350Ending epoch 48\n",
            "10/10 [==============================] - 0s 6ms/step - loss: 0.6151 - mae: 0.6265 - val_loss: 0.8049 - val_mae: 0.7050\n",
            "Started epoch 49\n",
            "Epoch 50/100\n",
            " 1/10 [==>...........................] - ETA: 0s - loss: 0.4873 - mae: 0.5439Ending epoch 49\n",
            "10/10 [==============================] - 0s 5ms/step - loss: 0.6120 - mae: 0.6310 - val_loss: 0.8066 - val_mae: 0.7081\n",
            "Started epoch 50\n",
            "Epoch 51/100\n",
            " 1/10 [==>...........................] - ETA: 0s - loss: 0.7460 - mae: 0.7110Ending epoch 50\n",
            "10/10 [==============================] - 0s 5ms/step - loss: 0.6234 - mae: 0.6360 - val_loss: 0.7955 - val_mae: 0.7092\n",
            "Started epoch 51\n",
            "Epoch 52/100\n",
            " 1/10 [==>...........................] - ETA: 0s - loss: 0.5693 - mae: 0.6623Ending epoch 51\n",
            "10/10 [==============================] - 0s 6ms/step - loss: 0.5915 - mae: 0.6148 - val_loss: 0.7435 - val_mae: 0.6962\n",
            "Started epoch 52\n",
            "Epoch 53/100\n",
            " 1/10 [==>...........................] - ETA: 0s - loss: 0.7541 - mae: 0.7161Ending epoch 52\n",
            "10/10 [==============================] - 0s 7ms/step - loss: 0.6262 - mae: 0.6314 - val_loss: 0.7405 - val_mae: 0.7095\n",
            "Started epoch 53\n",
            "Epoch 54/100\n",
            " 1/10 [==>...........................] - ETA: 0s - loss: 0.4957 - mae: 0.5526Ending epoch 53\n",
            "10/10 [==============================] - 0s 6ms/step - loss: 0.5544 - mae: 0.6061 - val_loss: 0.7336 - val_mae: 0.6923\n",
            "Started epoch 54\n",
            "Epoch 55/100\n",
            " 1/10 [==>...........................] - ETA: 0s - loss: 0.5982 - mae: 0.5855Ending epoch 54\n",
            "10/10 [==============================] - 0s 5ms/step - loss: 0.6030 - mae: 0.6278 - val_loss: 0.7112 - val_mae: 0.6698\n",
            "Started epoch 55\n",
            "Epoch 56/100\n",
            " 1/10 [==>...........................] - ETA: 0s - loss: 0.4080 - mae: 0.5253Ending epoch 55\n",
            "10/10 [==============================] - 0s 6ms/step - loss: 0.6038 - mae: 0.6273 - val_loss: 0.7446 - val_mae: 0.6694\n",
            "Started epoch 56\n",
            "Epoch 57/100\n",
            " 1/10 [==>...........................] - ETA: 0s - loss: 0.5571 - mae: 0.5755Ending epoch 56\n",
            "10/10 [==============================] - 0s 5ms/step - loss: 0.5435 - mae: 0.5887 - val_loss: 0.7264 - val_mae: 0.6645\n",
            "Started epoch 57\n",
            "Epoch 58/100\n",
            " 1/10 [==>...........................] - ETA: 0s - loss: 0.9603 - mae: 0.7896Ending epoch 57\n",
            "10/10 [==============================] - 0s 5ms/step - loss: 0.5720 - mae: 0.5953 - val_loss: 0.7018 - val_mae: 0.6749\n",
            "Started epoch 58\n",
            "Epoch 59/100\n",
            " 1/10 [==>...........................] - ETA: 0s - loss: 0.5130 - mae: 0.5867Ending epoch 58\n",
            "10/10 [==============================] - 0s 6ms/step - loss: 0.5450 - mae: 0.5949 - val_loss: 0.6907 - val_mae: 0.6686\n",
            "Started epoch 59\n",
            "Epoch 60/100\n",
            " 1/10 [==>...........................] - ETA: 0s - loss: 0.4520 - mae: 0.5693Ending epoch 59\n",
            "10/10 [==============================] - 0s 6ms/step - loss: 0.5106 - mae: 0.5750 - val_loss: 0.6742 - val_mae: 0.6450\n",
            "Started epoch 60\n",
            "Epoch 61/100\n",
            " 1/10 [==>...........................] - ETA: 0s - loss: 0.7303 - mae: 0.7202Ending epoch 60\n",
            "10/10 [==============================] - 0s 6ms/step - loss: 0.6162 - mae: 0.6270 - val_loss: 0.6216 - val_mae: 0.6278\n",
            "Started epoch 61\n",
            "Epoch 62/100\n",
            " 1/10 [==>...........................] - ETA: 0s - loss: 0.6404 - mae: 0.6882Ending epoch 61\n",
            "10/10 [==============================] - 0s 6ms/step - loss: 0.5500 - mae: 0.5934 - val_loss: 0.6180 - val_mae: 0.6129\n",
            "Started epoch 62\n",
            "Epoch 63/100\n",
            " 1/10 [==>...........................] - ETA: 0s - loss: 0.4631 - mae: 0.5311Ending epoch 62\n",
            "10/10 [==============================] - 0s 6ms/step - loss: 0.5557 - mae: 0.5757 - val_loss: 0.6428 - val_mae: 0.6238\n",
            "Started epoch 63\n",
            "Epoch 64/100\n",
            " 1/10 [==>...........................] - ETA: 0s - loss: 0.3833 - mae: 0.4854Ending epoch 63\n",
            "10/10 [==============================] - 0s 5ms/step - loss: 0.5681 - mae: 0.5962 - val_loss: 0.6512 - val_mae: 0.6367\n",
            "Started epoch 64\n",
            "Epoch 65/100\n",
            " 1/10 [==>...........................] - ETA: 0s - loss: 0.5861 - mae: 0.6047Ending epoch 64\n",
            "10/10 [==============================] - 0s 6ms/step - loss: 0.5435 - mae: 0.5889 - val_loss: 0.6582 - val_mae: 0.6295\n",
            "Started epoch 65\n",
            "Epoch 66/100\n",
            " 1/10 [==>...........................] - ETA: 0s - loss: 0.3762 - mae: 0.4648Ending epoch 65\n",
            "10/10 [==============================] - 0s 7ms/step - loss: 0.5579 - mae: 0.5957 - val_loss: 0.6708 - val_mae: 0.6242\n",
            "Started epoch 66\n",
            "Epoch 67/100\n",
            " 1/10 [==>...........................] - ETA: 0s - loss: 0.5621 - mae: 0.6187Ending epoch 66\n",
            "10/10 [==============================] - 0s 7ms/step - loss: 0.5956 - mae: 0.6341 - val_loss: 0.7017 - val_mae: 0.6398\n",
            "Started epoch 67\n",
            "Epoch 68/100\n",
            " 1/10 [==>...........................] - ETA: 0s - loss: 0.5195 - mae: 0.6188Ending epoch 67\n",
            "10/10 [==============================] - 0s 6ms/step - loss: 0.5945 - mae: 0.6222 - val_loss: 0.6794 - val_mae: 0.6291\n",
            "Started epoch 68\n",
            "Epoch 69/100\n",
            " 1/10 [==>...........................] - ETA: 0s - loss: 0.4996 - mae: 0.5585Ending epoch 68\n",
            "10/10 [==============================] - 0s 6ms/step - loss: 0.5616 - mae: 0.5953 - val_loss: 0.6211 - val_mae: 0.5937\n",
            "Started epoch 69\n",
            "Epoch 70/100\n",
            " 1/10 [==>...........................] - ETA: 0s - loss: 0.5119 - mae: 0.5780Ending epoch 69\n",
            "10/10 [==============================] - 0s 6ms/step - loss: 0.4937 - mae: 0.5685 - val_loss: 0.6168 - val_mae: 0.5987\n",
            "Started epoch 70\n",
            "Epoch 71/100\n",
            " 1/10 [==>...........................] - ETA: 0s - loss: 0.4492 - mae: 0.5138Ending epoch 70\n",
            "10/10 [==============================] - 0s 6ms/step - loss: 0.4933 - mae: 0.5662 - val_loss: 0.6645 - val_mae: 0.6114\n",
            "Started epoch 71\n",
            "Epoch 72/100\n",
            " 1/10 [==>...........................] - ETA: 0s - loss: 0.5128 - mae: 0.5695Ending epoch 71\n",
            "10/10 [==============================] - 0s 6ms/step - loss: 0.4884 - mae: 0.5578 - val_loss: 0.6553 - val_mae: 0.6070\n",
            "Started epoch 72\n",
            "Epoch 73/100\n",
            " 1/10 [==>...........................] - ETA: 0s - loss: 0.7169 - mae: 0.6639Ending epoch 72\n",
            "10/10 [==============================] - 0s 5ms/step - loss: 0.5186 - mae: 0.5644 - val_loss: 0.6572 - val_mae: 0.6138\n",
            "Started epoch 73\n",
            "Epoch 74/100\n",
            " 1/10 [==>...........................] - ETA: 0s - loss: 0.5311 - mae: 0.5792Ending epoch 73\n",
            "10/10 [==============================] - 0s 5ms/step - loss: 0.5150 - mae: 0.5558 - val_loss: 0.6517 - val_mae: 0.6138\n",
            "Started epoch 74\n",
            "Epoch 75/100\n",
            " 1/10 [==>...........................] - ETA: 0s - loss: 0.5435 - mae: 0.6056Ending epoch 74\n",
            "10/10 [==============================] - 0s 6ms/step - loss: 0.4991 - mae: 0.5548 - val_loss: 0.6403 - val_mae: 0.6167\n",
            "Started epoch 75\n",
            "Epoch 76/100\n",
            " 1/10 [==>...........................] - ETA: 0s - loss: 0.8720 - mae: 0.7554Ending epoch 75\n",
            "10/10 [==============================] - 0s 5ms/step - loss: 0.5325 - mae: 0.5808 - val_loss: 0.6207 - val_mae: 0.5999\n",
            "Started epoch 76\n",
            "Epoch 77/100\n",
            " 1/10 [==>...........................] - ETA: 0s - loss: 0.4991 - mae: 0.5703Ending epoch 76\n",
            "10/10 [==============================] - 0s 5ms/step - loss: 0.5072 - mae: 0.5661 - val_loss: 0.6209 - val_mae: 0.5982\n",
            "Started epoch 77\n",
            "Epoch 78/100\n",
            " 1/10 [==>...........................] - ETA: 0s - loss: 0.6299 - mae: 0.6345Ending epoch 77\n",
            "10/10 [==============================] - 0s 6ms/step - loss: 0.5173 - mae: 0.5704 - val_loss: 0.6150 - val_mae: 0.5993\n",
            "Started epoch 78\n",
            "Epoch 79/100\n",
            " 1/10 [==>...........................] - ETA: 0s - loss: 0.5265 - mae: 0.5889Ending epoch 78\n",
            "10/10 [==============================] - 0s 5ms/step - loss: 0.5577 - mae: 0.6043 - val_loss: 0.6268 - val_mae: 0.6061\n",
            "Started epoch 79\n",
            "Epoch 80/100\n",
            " 1/10 [==>...........................] - ETA: 0s - loss: 0.5853 - mae: 0.6131Ending epoch 79\n",
            "10/10 [==============================] - 0s 5ms/step - loss: 0.5058 - mae: 0.5672 - val_loss: 0.6301 - val_mae: 0.6005\n",
            "Started epoch 80\n",
            "Epoch 81/100\n",
            " 1/10 [==>...........................] - ETA: 0s - loss: 0.4526 - mae: 0.5122Ending epoch 80\n",
            "10/10 [==============================] - 0s 6ms/step - loss: 0.5209 - mae: 0.5762 - val_loss: 0.6496 - val_mae: 0.6077\n",
            "Started epoch 81\n",
            "Epoch 82/100\n",
            " 1/10 [==>...........................] - ETA: 0s - loss: 0.4583 - mae: 0.5735Ending epoch 81\n",
            "10/10 [==============================] - 0s 5ms/step - loss: 0.5260 - mae: 0.5824 - val_loss: 0.6485 - val_mae: 0.6084\n",
            "Started epoch 82\n",
            "Epoch 83/100\n",
            " 1/10 [==>...........................] - ETA: 0s - loss: 0.3756 - mae: 0.4849Ending epoch 82\n",
            "10/10 [==============================] - 0s 6ms/step - loss: 0.5079 - mae: 0.5807 - val_loss: 0.6316 - val_mae: 0.5995\n",
            "Started epoch 83\n",
            "Epoch 84/100\n",
            " 1/10 [==>...........................] - ETA: 0s - loss: 0.3422 - mae: 0.4540Ending epoch 83\n",
            "10/10 [==============================] - 0s 5ms/step - loss: 0.5061 - mae: 0.5739 - val_loss: 0.6263 - val_mae: 0.5974\n",
            "Started epoch 84\n",
            "Epoch 85/100\n",
            " 1/10 [==>...........................] - ETA: 0s - loss: 0.4440 - mae: 0.5238Ending epoch 84\n",
            "10/10 [==============================] - 0s 5ms/step - loss: 0.5045 - mae: 0.5667 - val_loss: 0.6302 - val_mae: 0.5987\n",
            "Started epoch 85\n",
            "Epoch 86/100\n",
            " 1/10 [==>...........................] - ETA: 0s - loss: 0.5171 - mae: 0.6162Ending epoch 85\n",
            "10/10 [==============================] - 0s 5ms/step - loss: 0.4357 - mae: 0.5191 - val_loss: 0.6242 - val_mae: 0.5975\n",
            "Started epoch 86\n",
            "Epoch 87/100\n",
            " 1/10 [==>...........................] - ETA: 0s - loss: 0.3123 - mae: 0.4596Ending epoch 86\n",
            "10/10 [==============================] - 0s 6ms/step - loss: 0.4837 - mae: 0.5602 - val_loss: 0.6333 - val_mae: 0.6001\n",
            "Started epoch 87\n",
            "Epoch 88/100\n",
            " 1/10 [==>...........................] - ETA: 0s - loss: 0.4905 - mae: 0.5880Ending epoch 87\n",
            "10/10 [==============================] - 0s 5ms/step - loss: 0.4442 - mae: 0.5223 - val_loss: 0.6201 - val_mae: 0.5969\n",
            "Started epoch 88\n",
            "Epoch 89/100\n",
            " 1/10 [==>...........................] - ETA: 0s - loss: 0.5287 - mae: 0.5930Ending epoch 88\n",
            "10/10 [==============================] - 0s 6ms/step - loss: 0.4894 - mae: 0.5668 - val_loss: 0.5968 - val_mae: 0.5870\n",
            "Started epoch 89\n",
            "Epoch 90/100\n",
            " 1/10 [==>...........................] - ETA: 0s - loss: 0.4499 - mae: 0.5004Ending epoch 89\n",
            "10/10 [==============================] - 0s 6ms/step - loss: 0.5387 - mae: 0.5731 - val_loss: 0.6021 - val_mae: 0.5971\n",
            "Started epoch 90\n",
            "Epoch 91/100\n",
            " 1/10 [==>...........................] - ETA: 0s - loss: 0.5211 - mae: 0.5848Ending epoch 90\n",
            "10/10 [==============================] - 0s 7ms/step - loss: 0.4787 - mae: 0.5494 - val_loss: 0.6115 - val_mae: 0.5990\n",
            "Started epoch 91\n",
            "Epoch 92/100\n",
            " 1/10 [==>...........................] - ETA: 0s - loss: 0.4743 - mae: 0.5579Ending epoch 91\n",
            "10/10 [==============================] - 0s 6ms/step - loss: 0.4748 - mae: 0.5572 - val_loss: 0.6168 - val_mae: 0.6011\n",
            "Started epoch 92\n",
            "Epoch 93/100\n",
            " 1/10 [==>...........................] - ETA: 0s - loss: 0.4893 - mae: 0.5361Ending epoch 92\n",
            "10/10 [==============================] - 0s 6ms/step - loss: 0.4894 - mae: 0.5515 - val_loss: 0.6075 - val_mae: 0.5974\n",
            "Started epoch 93\n",
            "Epoch 94/100\n",
            " 1/10 [==>...........................] - ETA: 0s - loss: 0.4185 - mae: 0.5119Ending epoch 93\n",
            "10/10 [==============================] - 0s 6ms/step - loss: 0.4901 - mae: 0.5464 - val_loss: 0.6092 - val_mae: 0.5919\n",
            "Started epoch 94\n",
            "Epoch 95/100\n",
            " 1/10 [==>...........................] - ETA: 0s - loss: 0.3867 - mae: 0.4744Ending epoch 94\n",
            "10/10 [==============================] - 0s 6ms/step - loss: 0.4519 - mae: 0.5277 - val_loss: 0.6209 - val_mae: 0.5912\n",
            "Started epoch 95\n",
            "Epoch 96/100\n",
            " 1/10 [==>...........................] - ETA: 0s - loss: 0.4296 - mae: 0.5115Ending epoch 95\n",
            "10/10 [==============================] - 0s 6ms/step - loss: 0.4881 - mae: 0.5628 - val_loss: 0.6161 - val_mae: 0.5956\n",
            "Started epoch 96\n",
            "Epoch 97/100\n",
            " 1/10 [==>...........................] - ETA: 0s - loss: 0.4635 - mae: 0.5594Ending epoch 96\n",
            "10/10 [==============================] - 0s 5ms/step - loss: 0.4617 - mae: 0.5337 - val_loss: 0.6122 - val_mae: 0.5867\n",
            "Started epoch 97\n",
            "Epoch 98/100\n",
            " 1/10 [==>...........................] - ETA: 0s - loss: 0.4520 - mae: 0.5585Ending epoch 97\n",
            "10/10 [==============================] - 0s 5ms/step - loss: 0.4810 - mae: 0.5505 - val_loss: 0.6092 - val_mae: 0.5886\n",
            "Started epoch 98\n",
            "Epoch 99/100\n",
            " 1/10 [==>...........................] - ETA: 0s - loss: 0.5171 - mae: 0.5888Ending epoch 98\n",
            "10/10 [==============================] - 0s 5ms/step - loss: 0.4784 - mae: 0.5443 - val_loss: 0.6308 - val_mae: 0.5977\n",
            "Started epoch 99\n",
            "Epoch 100/100\n",
            " 1/10 [==>...........................] - ETA: 0s - loss: 0.6341 - mae: 0.6391Ending epoch 99\n",
            "10/10 [==============================] - 0s 6ms/step - loss: 0.4652 - mae: 0.5364 - val_loss: 0.6231 - val_mae: 0.5933\n",
            "Completed training...\n"
          ],
          "name": "stdout"
        },
        {
          "output_type": "execute_result",
          "data": {
            "text/plain": [
              "<tensorflow.python.keras.callbacks.History at 0x7f241f475a20>"
            ]
          },
          "metadata": {
            "tags": []
          },
          "execution_count": 44
        }
      ]
    },
    {
      "cell_type": "code",
      "metadata": {
        "id": "0StHf2j0i-26",
        "colab_type": "code",
        "colab": {
          "base_uri": "https://localhost:8080/",
          "height": 34
        },
        "outputId": "4e1cbebd-2c37-4e03-bf8d-18f9902556fc"
      },
      "source": [
        "# Evaluate the model\n",
        "mse, mae = model.evaluate(X_test, Y_test)\n"
      ],
      "execution_count": 46,
      "outputs": [
        {
          "output_type": "stream",
          "text": [
            "2/2 [==============================] - 0s 1ms/step - loss: 0.5661 - mae: 0.5784\n"
          ],
          "name": "stdout"
        }
      ]
    },
    {
      "cell_type": "code",
      "metadata": {
        "id": "V5c7ARZUi-3B",
        "colab_type": "code",
        "colab": {
          "base_uri": "https://localhost:8080/",
          "height": 782
        },
        "outputId": "4e0b0d9b-8c94-482b-be6f-94f49374fb57"
      },
      "source": [
        "# Make predictions with the model\n",
        "model.predict(X_test)\n"
      ],
      "execution_count": 47,
      "outputs": [
        {
          "output_type": "execute_result",
          "data": {
            "text/plain": [
              "array([[-0.21359059],\n",
              "       [-0.37852833],\n",
              "       [-0.6889181 ],\n",
              "       [ 0.19268236],\n",
              "       [-0.561269  ],\n",
              "       [ 1.1348855 ],\n",
              "       [-0.66781706],\n",
              "       [-0.75023115],\n",
              "       [-0.72446084],\n",
              "       [-0.2705185 ],\n",
              "       [ 1.4603679 ],\n",
              "       [-0.1758013 ],\n",
              "       [-0.27853367],\n",
              "       [-0.4441857 ],\n",
              "       [-0.49556136],\n",
              "       [-0.7749245 ],\n",
              "       [-0.28965756],\n",
              "       [-0.4024949 ],\n",
              "       [-0.8388956 ],\n",
              "       [-0.10903638],\n",
              "       [-0.8049418 ],\n",
              "       [-0.9796426 ],\n",
              "       [-1.1524911 ],\n",
              "       [-0.5452242 ],\n",
              "       [-0.6801303 ],\n",
              "       [ 0.8821415 ],\n",
              "       [-0.9494424 ],\n",
              "       [ 0.17138396],\n",
              "       [ 0.434059  ],\n",
              "       [ 1.5936584 ],\n",
              "       [ 1.5624483 ],\n",
              "       [ 1.4493196 ],\n",
              "       [-0.99638   ],\n",
              "       [-0.84442973],\n",
              "       [-0.40349644],\n",
              "       [-1.073225  ],\n",
              "       [-1.2474778 ],\n",
              "       [ 0.4843802 ],\n",
              "       [-1.2136961 ],\n",
              "       [ 0.15052311],\n",
              "       [-0.55214804],\n",
              "       [ 1.0470282 ],\n",
              "       [-1.0961592 ],\n",
              "       [-0.55047524],\n",
              "       [-0.72370577]], dtype=float32)"
            ]
          },
          "metadata": {
            "tags": []
          },
          "execution_count": 47
        }
      ]
    },
    {
      "cell_type": "markdown",
      "metadata": {
        "id": "G3bG5I57i-3G",
        "colab_type": "text"
      },
      "source": [
        "***\n",
        "<a id=\"coding_tutorial_4\"></a>\n",
        "## Early stopping / patience"
      ]
    },
    {
      "cell_type": "markdown",
      "metadata": {
        "id": "1drj5fgji-3H",
        "colab_type": "text"
      },
      "source": [
        "#### Re-train the models with early stopping"
      ]
    },
    {
      "cell_type": "code",
      "metadata": {
        "id": "1hdoFd-gOdW4",
        "colab_type": "code",
        "colab": {}
      },
      "source": [
        "import tensorflow"
      ],
      "execution_count": 50,
      "outputs": []
    },
    {
      "cell_type": "code",
      "metadata": {
        "id": "GmACmu0ti-3I",
        "colab_type": "code",
        "colab": {}
      },
      "source": [
        "# Re-train the unregularised model\n",
        "unregularised_model = get_model()\n",
        "unregularised_model.compile(optimizer = 'adam', loss = 'mse', metrics = ['mae'])\n",
        "unreg_history = unregularised_model.fit(X_train, Y_train, epochs = 100, validation_split = 0.15, batch_size = 64, verbose = False, callbacks = [tensorflow.keras.callbacks.EarlyStopping()])"
      ],
      "execution_count": 54,
      "outputs": []
    },
    {
      "cell_type": "code",
      "metadata": {
        "id": "TIsg57e_i-3M",
        "colab_type": "code",
        "colab": {
          "base_uri": "https://localhost:8080/",
          "height": 34
        },
        "outputId": "c7bda794-b05d-40b4-b72b-695343dad698"
      },
      "source": [
        "# Evaluate the model on the test set\n",
        "unreg_mse, unreg_mae = unregularised_model.evaluate(X_test, Y_test)"
      ],
      "execution_count": 55,
      "outputs": [
        {
          "output_type": "stream",
          "text": [
            "2/2 [==============================] - 0s 2ms/step - loss: 0.8774 - mae: 0.8260\n"
          ],
          "name": "stdout"
        }
      ]
    },
    {
      "cell_type": "code",
      "metadata": {
        "id": "KaqmQUlBi-3P",
        "colab_type": "code",
        "colab": {}
      },
      "source": [
        "# Re-train the regularised model\n",
        "regularised_model = get_regularised_model(0.00001, 0.3)\n",
        "regularised_model.compile(optimizer = 'adam', loss = 'mae')\n",
        "reg_history = regularised_model.fit(X_train, Y_train, epochs = 100, validation_split = 0.15, batch_size = 64, verbose = False, callbacks = [tensorflow.keras.callbacks.EarlyStopping()])\n"
      ],
      "execution_count": 57,
      "outputs": []
    },
    {
      "cell_type": "code",
      "metadata": {
        "id": "Rx2yxMX7i-3X",
        "colab_type": "code",
        "colab": {
          "base_uri": "https://localhost:8080/",
          "height": 34
        },
        "outputId": "b2ff27b4-fab3-44de-c615-88da276d9e2c"
      },
      "source": [
        "# Evaluate the model on the test set\n",
        "reg_mse, reg_mae = unregularised_model.evaluate(X_test, Y_test)\n"
      ],
      "execution_count": 59,
      "outputs": [
        {
          "output_type": "stream",
          "text": [
            "2/2 [==============================] - 0s 2ms/step - loss: 0.8774 - mae: 0.8260\n"
          ],
          "name": "stdout"
        }
      ]
    },
    {
      "cell_type": "markdown",
      "metadata": {
        "id": "fSMUr1zci-3b",
        "colab_type": "text"
      },
      "source": [
        "#### Plot the learning curves"
      ]
    },
    {
      "cell_type": "code",
      "metadata": {
        "id": "KhF2A2aoi-3b",
        "colab_type": "code",
        "colab": {
          "base_uri": "https://localhost:8080/",
          "height": 350
        },
        "outputId": "7b57c26d-e843-40b8-dcd8-514fb5b66a88"
      },
      "source": [
        "# Plot the training and validation loss\n",
        "\n",
        "import matplotlib.pyplot as plt\n",
        "\n",
        "fig = plt.figure(figsize=(12, 5))\n",
        "\n",
        "fig.add_subplot(121)\n",
        "\n",
        "plt.plot(unreg_history.history['loss'])\n",
        "plt.plot(unreg_history.history['val_loss'])\n",
        "plt.title('Unregularised model: loss vs. epochs')\n",
        "plt.ylabel('Loss')\n",
        "plt.xlabel('Epoch')\n",
        "plt.legend(['Training', 'Validation'], loc='upper right')\n",
        "\n",
        "fig.add_subplot(122)\n",
        "\n",
        "plt.plot(reg_history.history['loss'])\n",
        "plt.plot(reg_history.history['val_loss'])\n",
        "plt.title('Regularised model: loss vs. epochs')\n",
        "plt.ylabel('Loss')\n",
        "plt.xlabel('Epoch')\n",
        "plt.legend(['Training', 'Validation'], loc='upper right')\n",
        "\n",
        "plt.show()"
      ],
      "execution_count": 60,
      "outputs": [
        {
          "output_type": "display_data",
          "data": {
            "image/png": "[encoded data removed]",
            "text/plain": [
              "<Figure size 864x360 with 2 Axes>"
            ]
          },
          "metadata": {
            "tags": [],
            "needs_background": "light"
          }
        }
      ]
    }
  ]
}